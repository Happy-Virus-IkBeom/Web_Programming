{
 "cells": [
  {
   "cell_type": "markdown",
   "metadata": {},
   "source": [
    "# Lab-03-4 : Guessing Game"
   ]
  },
  {
   "cell_type": "code",
   "execution_count": 20,
   "metadata": {},
   "outputs": [
    {
     "name": "stdout",
     "output_type": "stream",
     "text": [
      "0 ~ 100 중에 하나를 맞추어보세요. 1\n",
      "Guess Bigger! \n",
      "0 ~ 100 중에 하나를 맞추어보세요. 50\n",
      "Guess Smaller! \n",
      "0 ~ 100 중에 하나를 맞추어보세요. 25\n",
      "Guess Bigger! \n",
      "0 ~ 100 중에 하나를 맞추어보세요. 40\n",
      "You got it! \n",
      "the count number of your predictions is: 4\n",
      "Excellent\n",
      "random number was 40\n"
     ]
    }
   ],
   "source": [
    "import random\n",
    "\n",
    "# 0~100 사이의 수를 하나 생성하여 기억\n",
    "number = random.randint(0,100)\n",
    "\n",
    "# count 초기화\n",
    "count = 0\n",
    "\n",
    "while True:\n",
    "    # guessing 하기\n",
    "    guess = int(input(\"0 ~ 100 중에 하나를 맞추어보세요. \"))\n",
    "    #Debugging : guess number 가 0~100의 숫자가 아니라면 Error 메세지 띄우기.\n",
    "    if guess < 0 or guess > 100:\n",
    "            print(\"Error. It must be not less than 0 and not more than 100\")\n",
    "    #잘 입력되었다면 진행.\n",
    "    else:\n",
    "        #count 1 늘리기\n",
    "        count += 1\n",
    "        #총 입력 횟수가 20회를 넘으면, 즉 21번째 입력때 종료.\n",
    "        if count > 20:\n",
    "            break\n",
    "        # 기억된 값 보다 작으면 “Guess 를 출력하기\n",
    "        if guess < number:\n",
    "            print(\"Guess Bigger! \")\n",
    "        #기억된 값 보다 크면 “Guess 를 출력하기\n",
    "        elif guess > number:\n",
    "            print(\"Guess Smaller! \")\n",
    "        #기억된 값과 같으면 “You got 을 출력한 후 종료한다 .\n",
    "        else: \n",
    "            print(\"You got it! \")\n",
    "            break\n",
    "            \n",
    "# 총 입력 회수가 5 회 이하이면 Excellent 를, 총 입력 회수가 10 회 이하이면 Good 을 출력\n",
    "if count < 10 or count == 10:\n",
    "    if count < 5 or count == 5:\n",
    "        print(f'the count number of your predictions is: {count}')\n",
    "        print(\"Excellent\")\n",
    "    else:\n",
    "        print(f'the count number of your predictions is: {count}')\n",
    "        print(\"Good\")\n",
    "        \n",
    "# 총 입력 회수가 10 회 초과이면  Poor 를 출력.    \n",
    "elif count > 10:\n",
    "    print(f'the count number of your predictions is: {count}')\n",
    "    print(\"Poor\") \n",
    "    \n",
    "# 더불어, 총 입력 횟수도 출력한다  \n",
    "print(f'random number was {number}')"
   ]
  },
  {
   "cell_type": "markdown",
   "metadata": {},
   "source": [
    "# Lab-03-5 : 성적 처리 "
   ]
  },
  {
   "cell_type": "code",
   "execution_count": 54,
   "metadata": {},
   "outputs": [
    {
     "name": "stdout",
     "output_type": "stream",
     "text": [
      "학생수를 입력하세요.10\n",
      "1번째 학생의 과목성적을 입력하세요: 99\n",
      "2번째 학생의 과목성적을 입력하세요: 77\n",
      "3번째 학생의 과목성적을 입력하세요: 68\n",
      "4번째 학생의 과목성적을 입력하세요: 58\n",
      "5번째 학생의 과목성적을 입력하세요: 79\n",
      "6번째 학생의 과목성적을 입력하세요: 49\n",
      "7번째 학생의 과목성적을 입력하세요: 57\n",
      "8번째 학생의 과목성적을 입력하세요: 58\n",
      "9번째 학생의 과목성적을 입력하세요: 79\n",
      "10번째 학생의 과목성적을 입력하세요: 89\n",
      "표준편차: 15.159485479395414\n",
      "평균: 71.3\n",
      "최소점: 49.0\n",
      "최고점: 99.0\n"
     ]
    }
   ],
   "source": [
    "import math\n",
    "import numpy as np\n",
    "\n",
    "# 학생수 입력받기\n",
    "number_of_student = int(input(\"학생수를 입력하세요.\"))\n",
    "\n",
    "#deviation = root((sum(xi^2)/N)+(sum(xi)/N)^2) 일때, s_power 은 sum(xi^2) 이고 summation = sum(xi)으로 하자. \n",
    "s_power = 0\n",
    "summation = 0\n",
    "\n",
    "#y 와 z 는 각각 최고점, 최소점을 계산하기 위한 데이터.\n",
    "max_data = 0\n",
    "min_data = 100\n",
    "\n",
    "#본격적인 최고점, 최소점, 평균, 표준편차 구하기\n",
    "for i in range (1, number_of_student+1):\n",
    "    x = float(input(f'{i}번째 학생의 과목성적을 입력하세요: '))\n",
    "    s_power += pow(x,2)\n",
    "    summation += x\n",
    "    if max_data < x:\n",
    "        max_data = x\n",
    "    if min_data > x:\n",
    "        min_data = x\n",
    "    \n",
    "deviation = np.sqrt(s_power/number_of_student - pow(summation/number_of_student,2))\n",
    "average = summation / number_of_student\n",
    "print(f'표준편차: {deviation}')\n",
    "print(f'평균: {average}')\n",
    "print(f'최소점: {min_data}')\n",
    "print(f'최고점: {max_data}')\n"
   ]
  },
  {
   "cell_type": "code",
   "execution_count": null,
   "metadata": {},
   "outputs": [],
   "source": []
  }
 ],
 "metadata": {
  "kernelspec": {
   "display_name": "Python 3",
   "language": "python",
   "name": "python3"
  },
  "language_info": {
   "codemirror_mode": {
    "name": "ipython",
    "version": 3
   },
   "file_extension": ".py",
   "mimetype": "text/x-python",
   "name": "python",
   "nbconvert_exporter": "python",
   "pygments_lexer": "ipython3",
   "version": "3.6.10"
  }
 },
 "nbformat": 4,
 "nbformat_minor": 4
}
