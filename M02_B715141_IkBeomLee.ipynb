{
 "cells": [
  {
   "cell_type": "markdown",
   "metadata": {},
   "source": [
    "# LAB-02-1"
   ]
  },
  {
   "cell_type": "code",
   "execution_count": 1,
   "metadata": {},
   "outputs": [
    {
     "name": "stdout",
     "output_type": "stream",
     "text": [
      "choose the integer of 3, 5 or 73\n",
      "multiplication table 3 is: [3, 6, 9, 12, 15, 18, 21, 24, 27]\n"
     ]
    }
   ],
   "source": [
    "# 구구단 3, 5, 7단 출력하기 => 3, 5, 7단중에 하나를 input 으로 주면 table을 출력해줌.\n",
    "# table 초기화\n",
    "table = [] \n",
    "# n 인풋받기\n",
    "n = int(input('choose the integer of 3, 5 or 7'))\n",
    "\n",
    "# n이 3,5,7중에 하나면 table 출력, \n",
    "if n is 3 or n is 5 or n is 7:\n",
    "    for i in range(1,10):\n",
    "        result = n * i\n",
    "        table.append(result)\n",
    "\n",
    "# 그렇지 않다면 error 출력\n",
    "else:\n",
    "    print(\"ERROR\")\n",
    "    \n",
    "print(f'multiplication table {n} is: {table}')"
   ]
  },
  {
   "cell_type": "markdown",
   "metadata": {},
   "source": [
    "# LAB-02-2"
   ]
  },
  {
   "cell_type": "code",
   "execution_count": 24,
   "metadata": {},
   "outputs": [
    {
     "name": "stdout",
     "output_type": "stream",
     "text": [
      "Enter the integer you want to calculate: 5\n",
      "5! is 120\n",
      "sum of odd is 9\n"
     ]
    }
   ],
   "source": [
    "# N까지의 팩토리얼 함수\n",
    "def factorial_N(N):\n",
    "    result = 1\n",
    "    for i in range(1, N+1):\n",
    "        result = result * i\n",
    "    return result\n",
    "\n",
    "\n",
    "# N까지 홀수 합 함수\n",
    "def sum_of_odd(N):\n",
    "    result = 0\n",
    "    for i in range (N):\n",
    "        n = 2 * i + 1\n",
    "        if n <= N:\n",
    "            result += n\n",
    "            \n",
    "        else:\n",
    "            return result\n",
    "    \n",
    "        \n",
    "N = int(input(\"Enter the integer you want to calculate: \")) \n",
    "print(f'{N}! is {factorial_N(N)}')\n",
    "print(f'sum of odd is {sum_of_odd(N)}')"
   ]
  },
  {
   "cell_type": "markdown",
   "metadata": {},
   "source": [
    "# LAB-02-3"
   ]
  },
  {
   "cell_type": "code",
   "execution_count": 36,
   "metadata": {},
   "outputs": [
    {
     "name": "stdout",
     "output_type": "stream",
     "text": [
      "a - Enter the integer you want: 10\n",
      "b - Enter the integer you want: 30\n",
      "prime number between a and b is : [11, 13, 17, 19, 23, 29]\n"
     ]
    }
   ],
   "source": [
    "# 두 정수를 입력 받아 사이에 있는 모든 소수를 출력하기.\n",
    "# 정수 입력 함수\n",
    "def input_integer():\n",
    "    a = int(input(\"a - Enter the integer you want: \"))\n",
    "    b = int(input(\"b - Enter the integer you want: \"))\n",
    "    \n",
    "    return a,b\n",
    "\n",
    "\n",
    "#소수 판별기 함수\n",
    "def isPrime(n):\n",
    "  if (n<2):\n",
    "    return False\n",
    "  for i in range (2,n):\n",
    "    if (n % i==0):\n",
    "      return False\n",
    "  return True\n",
    "\n",
    "\n",
    "# a와 b 사이에 있는 소수 구하는 함수\n",
    "def prime_between_a_b(a,b):\n",
    "    prime_number_between_a_b = []\n",
    "    for i in range (a+1, b):\n",
    "        if isPrime(i) is True:\n",
    "            prime_number_between_a_b.append(i)\n",
    "        \n",
    "    return prime_number_between_a_b\n",
    "            \n",
    "\n",
    "a,b = input_integer()\n",
    "prime_number_between_a_b = prime_between_a_b(a,b)\n",
    "print(f'prime number between a and b is : {prime_number_between_a_b}')"
   ]
  },
  {
   "cell_type": "code",
   "execution_count": null,
   "metadata": {},
   "outputs": [],
   "source": []
  }
 ],
 "metadata": {
  "kernelspec": {
   "display_name": "Python 3",
   "language": "python",
   "name": "python3"
  },
  "language_info": {
   "codemirror_mode": {
    "name": "ipython",
    "version": 3
   },
   "file_extension": ".py",
   "mimetype": "text/x-python",
   "name": "python",
   "nbconvert_exporter": "python",
   "pygments_lexer": "ipython3",
   "version": "3.6.10"
  }
 },
 "nbformat": 4,
 "nbformat_minor": 4
}
