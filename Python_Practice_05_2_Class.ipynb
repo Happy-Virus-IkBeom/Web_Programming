{
 "cells": [
  {
   "cell_type": "code",
   "execution_count": 2,
   "metadata": {},
   "outputs": [
    {
     "name": "stdout",
     "output_type": "stream",
     "text": [
      "13.4\n",
      "10.2\n",
      "0.5952380952380952\n",
      "-3.8\n"
     ]
    }
   ],
   "source": [
    "# 클래스 선언과 구현 예제 (1)\n",
    "# Calculator 구현 (1-1)\n",
    "\n",
    "class Calculator:\n",
    "    def set_data(self, dNum1, dNum2):\n",
    "        self.dNum1 = dNum1\n",
    "        self.dNum2 = dNum2\n",
    "        \n",
    "    def add(self):\n",
    "        return self.dNum1 + self.dNum2\n",
    "    \n",
    "    def substract(self):\n",
    "        return self.dNum1 - self.dNum2\n",
    "    \n",
    "    def multiply(self):\n",
    "        return self.dNum1 + self.dNum2\n",
    "    \n",
    "    def divide(self):\n",
    "        return self.dNum1 / self.dNum2\n",
    "    \n",
    "x = Calculator()\n",
    "y = Calculator()\n",
    "x.set_data(5, 8.4)\n",
    "y.set_data(3.2, 7)\n",
    "print(x.add())\n",
    "print(y.multiply())\n",
    "print(x.divide())\n",
    "print(y.substract())"
   ]
  },
  {
   "cell_type": "code",
   "execution_count": 5,
   "metadata": {},
   "outputs": [
    {
     "name": "stdout",
     "output_type": "stream",
     "text": [
      "3\n",
      "0.5\n"
     ]
    }
   ],
   "source": [
    "# 클래스 선언과 구현 예제 (1)\n",
    "# Calculator 구현 (1-2)\n",
    "\n",
    "class Calculator2:\n",
    "    def __init__(self, dNum1, dNum2):\n",
    "        self.dNum1 = dNum1\n",
    "        self.dNum2 = dNum2\n",
    "        self.result = 0\n",
    "        \n",
    "    def add(self):\n",
    "        self.result = self.dNum1 + self.dNum2\n",
    "        return self.result\n",
    "    \n",
    "    def substract(self):\n",
    "        self.result =  self.dNum1 - self.dNum2\n",
    "        return self.result\n",
    "    \n",
    "    def multiply(self):\n",
    "        self.result =  self.dNum1 + self.dNum2\n",
    "        return self.result\n",
    "    \n",
    "    def divide(self):\n",
    "        self.result =  self.dNum1 / self.dNum2\n",
    "        return self.result\n",
    "\n",
    "x = Calculator2(1,2)\n",
    "print(x.add())\n",
    "print(x.divide())"
   ]
  },
  {
   "cell_type": "markdown",
   "metadata": {},
   "source": [
    "# Inheritance"
   ]
  },
  {
   "cell_type": "code",
   "execution_count": 7,
   "metadata": {},
   "outputs": [
    {
     "name": "stdout",
     "output_type": "stream",
     "text": [
      "9.3\n",
      "11.1\n",
      "-6.9\n",
      "\n",
      "추가된 기능: 1012.9103729329762\n",
      "추가된 기능: 794.2800465810003\n"
     ]
    }
   ],
   "source": [
    "# 클래스 선언과 구현 예제 (1)\n",
    "# Calculator 구현 (1-3) : Inheritance\n",
    "\n",
    "class Calculator3(Calculator2):\n",
    "    \n",
    "    def exponent(self):\n",
    "        self.result = self.dNum1 ** self.dNum2\n",
    "        return self.result\n",
    "    \n",
    "x = Calculator3(5, 4.3)\n",
    "y = Calculator3(2.1, 9)\n",
    "\n",
    "print(x.add())\n",
    "print(y.multiply())\n",
    "print(y.substract())\n",
    "print()\n",
    "print(\"추가된 기능: {}\".format(x.exponent()))\n",
    "print(\"추가된 기능: {}\".format(y.exponent()))"
   ]
  },
  {
   "cell_type": "markdown",
   "metadata": {},
   "source": [
    "# Method Overriding"
   ]
  },
  {
   "cell_type": "code",
   "execution_count": 9,
   "metadata": {},
   "outputs": [
    {
     "name": "stdout",
     "output_type": "stream",
     "text": [
      "\n",
      "After Overriding divide(): inf\n"
     ]
    },
    {
     "ename": "ZeroDivisionError",
     "evalue": "float division by zero",
     "output_type": "error",
     "traceback": [
      "\u001b[1;31m---------------------------------------------------------------------------\u001b[0m",
      "\u001b[1;31mZeroDivisionError\u001b[0m                         Traceback (most recent call last)",
      "\u001b[1;32m<ipython-input-9-ec804edf7f5a>\u001b[0m in \u001b[0;36m<module>\u001b[1;34m\u001b[0m\n\u001b[0;32m     18\u001b[0m \u001b[0mprint\u001b[0m\u001b[1;33m(\u001b[0m\u001b[1;33m)\u001b[0m\u001b[1;33m\u001b[0m\u001b[1;33m\u001b[0m\u001b[0m\n\u001b[0;32m     19\u001b[0m \u001b[0mprint\u001b[0m\u001b[1;33m(\u001b[0m\u001b[1;34m\"After Overriding divide(): {}\"\u001b[0m\u001b[1;33m.\u001b[0m\u001b[0mformat\u001b[0m\u001b[1;33m(\u001b[0m\u001b[0my\u001b[0m\u001b[1;33m.\u001b[0m\u001b[0mdivide\u001b[0m\u001b[1;33m(\u001b[0m\u001b[1;33m)\u001b[0m\u001b[1;33m)\u001b[0m\u001b[1;33m)\u001b[0m\u001b[1;33m\u001b[0m\u001b[1;33m\u001b[0m\u001b[0m\n\u001b[1;32m---> 20\u001b[1;33m \u001b[0mprint\u001b[0m\u001b[1;33m(\u001b[0m\u001b[1;34m\"Before Overriding divide(): {}\"\u001b[0m\u001b[1;33m.\u001b[0m\u001b[0mformat\u001b[0m\u001b[1;33m(\u001b[0m\u001b[0mx\u001b[0m\u001b[1;33m.\u001b[0m\u001b[0mdivide\u001b[0m\u001b[1;33m(\u001b[0m\u001b[1;33m)\u001b[0m\u001b[1;33m)\u001b[0m\u001b[1;33m)\u001b[0m  \u001b[1;31m#이거는 오류남\u001b[0m\u001b[1;33m\u001b[0m\u001b[1;33m\u001b[0m\u001b[0m\n\u001b[0m",
      "\u001b[1;32m<ipython-input-5-6726462d08ab>\u001b[0m in \u001b[0;36mdivide\u001b[1;34m(self)\u001b[0m\n\u001b[0;32m     21\u001b[0m \u001b[1;33m\u001b[0m\u001b[0m\n\u001b[0;32m     22\u001b[0m     \u001b[1;32mdef\u001b[0m \u001b[0mdivide\u001b[0m\u001b[1;33m(\u001b[0m\u001b[0mself\u001b[0m\u001b[1;33m)\u001b[0m\u001b[1;33m:\u001b[0m\u001b[1;33m\u001b[0m\u001b[1;33m\u001b[0m\u001b[0m\n\u001b[1;32m---> 23\u001b[1;33m         \u001b[0mself\u001b[0m\u001b[1;33m.\u001b[0m\u001b[0mresult\u001b[0m \u001b[1;33m=\u001b[0m  \u001b[0mself\u001b[0m\u001b[1;33m.\u001b[0m\u001b[0mdNum1\u001b[0m \u001b[1;33m/\u001b[0m \u001b[0mself\u001b[0m\u001b[1;33m.\u001b[0m\u001b[0mdNum2\u001b[0m\u001b[1;33m\u001b[0m\u001b[1;33m\u001b[0m\u001b[0m\n\u001b[0m\u001b[0;32m     24\u001b[0m         \u001b[1;32mreturn\u001b[0m \u001b[0mself\u001b[0m\u001b[1;33m.\u001b[0m\u001b[0mresult\u001b[0m\u001b[1;33m\u001b[0m\u001b[1;33m\u001b[0m\u001b[0m\n\u001b[0;32m     25\u001b[0m \u001b[1;33m\u001b[0m\u001b[0m\n",
      "\u001b[1;31mZeroDivisionError\u001b[0m: float division by zero"
     ]
    }
   ],
   "source": [
    "# 클래스 선언과 구현 예제 (1)\n",
    "# Calculator 구현 (1-4) : Inheritance\n",
    "# Method Overriding\n",
    "\n",
    "class Calculator4(Calculator3):\n",
    "    \n",
    "    #Divide Zero 방지\n",
    "    def divide(self):\n",
    "        if self.dNum2 == 0.0:\n",
    "            self.result = float('inf') # infinity\n",
    "            return self.result\n",
    "        else:\n",
    "            self.result = selef.dNum1 / self.dNum2\n",
    "            return self.result\n",
    "\n",
    "x = Calculator3(4.3, 0)\n",
    "y = Calculator4(9, 0)\n",
    "print()\n",
    "print(\"After Overriding divide(): {}\".format(y.divide()))\n",
    "print(\"Before Overriding divide(): {}\".format(x.divide()))  #이거는 오류남"
   ]
  },
  {
   "cell_type": "code",
   "execution_count": null,
   "metadata": {},
   "outputs": [],
   "source": []
  }
 ],
 "metadata": {
  "kernelspec": {
   "display_name": "Python 3",
   "language": "python",
   "name": "python3"
  },
  "language_info": {
   "codemirror_mode": {
    "name": "ipython",
    "version": 3
   },
   "file_extension": ".py",
   "mimetype": "text/x-python",
   "name": "python",
   "nbconvert_exporter": "python",
   "pygments_lexer": "ipython3",
   "version": "3.6.10"
  }
 },
 "nbformat": 4,
 "nbformat_minor": 4
}
