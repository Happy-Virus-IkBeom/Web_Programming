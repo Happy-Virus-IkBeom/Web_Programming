{
 "cells": [
  {
   "cell_type": "code",
   "execution_count": 48,
   "metadata": {},
   "outputs": [
    {
     "name": "stdout",
     "output_type": "stream",
     "text": [
      "원하는 피보나치 단계를 입력하세요: 9\n",
      "9'th Fibonacci Number is 34\n"
     ]
    },
    {
     "data": {
      "image/png": "[encoded data removed]",
      "text/plain": [
       "<Figure size 432x288 with 1 Axes>"
      ]
     },
     "metadata": {
      "needs_background": "light"
     },
     "output_type": "display_data"
    }
   ],
   "source": [
    "# Fibonacci Series\n",
    "\n",
    "import matplotlib.pyplot as plt\n",
    "\n",
    "# initialize\n",
    "x = 1\n",
    "y = 1\n",
    "z = 0\n",
    "\n",
    "# 2개의 입력으로 합을 구함\n",
    "def sum(x,y):\n",
    "    for _ in range(10): \n",
    "        z = x + y\n",
    "    return z\n",
    "\n",
    "\n",
    "# ak-2, ak-1 = ak-1, ak \n",
    "# memory 차지하는것 최소화 하기. 변수가 많으면 그만큼 쓰레기 값이 많아짐. 이것을 최소화 할 필요가 있음.\n",
    "def exchange(z,x,y): \n",
    "    x, y = y, z\n",
    "    return x,y\n",
    "\n",
    "# 피보나치 수열계산\n",
    "def fibonacci_series(x,y,z,level):\n",
    "    for i in range (level-2):\n",
    "        z = sum(x,y)\n",
    "        x,y = exchange(z,x,y) \n",
    "        plt.plot(i, z, '*')\n",
    "    print(f\"{level}'th Fibonacci Number is {z}\")\n",
    "    plt.show()\n",
    "\n",
    "level = int(input(\"원하는 피보나치 단계를 입력하세요: \")) \n",
    "\n",
    "if level < 0 or level == 0:\n",
    "    print(\"Error:The level must be at least 1.\")\n",
    "    \n",
    "elif level < 3:\n",
    "    print(f\"{level}'th Fibonacci Number is 1 \")\n",
    "\n",
    "else:\n",
    "    fibonacci_series(x,y,z,level)"
   ]
  },
  {
   "cell_type": "code",
   "execution_count": 52,
   "metadata": {},
   "outputs": [
    {
     "name": "stdout",
     "output_type": "stream",
     "text": [
      "2325054958600\n",
      "2325054958600\n"
     ]
    }
   ],
   "source": [
    "a = [1, 2, 3]\n",
    "print(id(a))\n",
    "a.append(4)\n",
    "print(id(a))"
   ]
  },
  {
   "cell_type": "code",
   "execution_count": null,
   "metadata": {},
   "outputs": [],
   "source": []
  }
 ],
 "metadata": {
  "kernelspec": {
   "display_name": "Python 3",
   "language": "python",
   "name": "python3"
  },
  "language_info": {
   "codemirror_mode": {
    "name": "ipython",
    "version": 3
   },
   "file_extension": ".py",
   "mimetype": "text/x-python",
   "name": "python",
   "nbconvert_exporter": "python",
   "pygments_lexer": "ipython3",
   "version": "3.6.10"
  }
 },
 "nbformat": 4,
 "nbformat_minor": 4
}
