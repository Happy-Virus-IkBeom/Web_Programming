{
 "cells": [
  {
   "cell_type": "markdown",
   "metadata": {},
   "source": [
    "# Lab - 06 - 01 : 단어 숫자 세기"
   ]
  },
  {
   "cell_type": "code",
   "execution_count": 38,
   "metadata": {},
   "outputs": [
    {
     "name": "stdout",
     "output_type": "stream",
     "text": [
      "['Yesterday', 'All', 'my', 'troubles', 'seemed', 'so', 'far', 'away', 'Now', 'it', 'looks', 'as', 'though', \"they're\", 'here', 'to', 'stay', 'Oh,', 'I', 'believe', 'in', 'yesterday', 'Suddenly', \"I'm\", 'not', 'half', 'the', 'man', 'I', 'used', 'to', 'be', \"There's\", 'a', 'shadow', 'hanging', 'over', 'me', 'Oh,', 'yesterday', 'came', 'suddenly', 'Why', 'she', 'had', 'to', 'go,', 'I', \"don't\", 'know', 'She', \"wouldn't\", 'say', 'I', 'said', 'something', 'wrong', 'Now', 'I', 'long', 'for', 'yesterday', 'Yesterday', 'Love', 'was', 'such', 'an', 'easy', 'game', 'to', 'play', 'Now', 'I', 'need', 'a', 'place', 'to', 'hide', 'away', 'Oh,', 'I', 'believe', 'in', 'yesterday', 'Why', 'she', 'had', 'to', 'go,', 'I', \"don't\", 'know', 'She', \"wouldn't\", 'say', 'I', 'said', 'something', 'wrong', 'Now', 'I', 'long', 'for', 'yesterday', 'Yesterday', 'Love', 'was', 'such', 'an', 'easy', 'game', 'to', 'play', 'Now', 'I', 'need', 'a', 'place', 'to', 'hide', 'away', 'Oh,', 'I', 'believe', 'in', 'yesterday']\n",
      "\n",
      "yesterday 갯수는 : 9개 입니다.\n"
     ]
    }
   ],
   "source": [
    "# yesterday lyrics 파일 열기, read mode, utf-8 encoding.\n",
    "f = open(\"C:\\\\Users\\이익범\\Desktop\\yesterday_beatles.txt\", mode = 'r', encoding = 'utf-8')\n",
    "\n",
    "# yesterday 갯수를 새기 위해 처음에 count = 0 초기화.\n",
    "count = 0 \n",
    "\n",
    "# yesterday 단어를 찾기위해서 단어 지정해주기.\n",
    "yesterday = 'yesterday'\n",
    "\n",
    "# 파일을 모두 읽어서 split 으로 단어단위로 쪼개기.\n",
    "lyrics = f.read()\n",
    "word_list = lyrics.split()\n",
    "print(word_list)\n",
    "\n",
    "# 리스트의 단어들마다 lowercase 로 변환한후 만약 yesterday 와 일치하면 count 를 1 증가시키기.\n",
    "for word in word_list:\n",
    "    if word.lower() == yesterday:\n",
    "        count += 1\n",
    "\n",
    "# 파일 닫아주기.\n",
    "f.close()\n",
    "\n",
    "# 총 yesterday 갯수.\n",
    "print(f'\\nyesterday 갯수는 : {count}개 입니다.')"
   ]
  },
  {
   "cell_type": "markdown",
   "metadata": {},
   "source": [
    "# Lab - 06 - 02 : File Write & Read"
   ]
  },
  {
   "cell_type": "code",
   "execution_count": 84,
   "metadata": {},
   "outputs": [
    {
     "name": "stdout",
     "output_type": "stream",
     "text": [
      "              Web Programming 2019 by Prof.Jhee              \n",
      "\n",
      "               Python Programming for Data Analytics         \n",
      "\n",
      "Python is an awesome programming language. It's simple and easy\n",
      "\n",
      " to learn. I can do it!!!\n",
      "\n",
      " 파이썬은 Big Data/AI 시대의 필수적인 프로그래밍 언어로 자리 잡았으며\n",
      "\n",
      "Google의 기본 개발언어로 사용되고 있습니다.\n",
      "\n",
      "여러분도 파이썬을 잘 익혀서 4차 산업혁명의 역군이 되기를 바랍니다.\n",
      "\n",
      " 3.14 36 18.2 'data science' 256 '999' 55\n",
      "\n",
      "마지막줄에서 숫자의 갯수는 : 5 입니다.\n",
      "\n"
     ]
    }
   ],
   "source": [
    "# 파일을 writing mode 로 open 한 후 write 하기.\n",
    "with open('TestFile_01.txt', 'w', encoding = 'utf-8') as f:\n",
    "    f.write('              Web Programming 2019 by Prof.Jhee              \\n') # 혹은 띄워쓰기 말고 Padding 기법으로 할 수 도 있음. \n",
    "    f.write('               Python Programming for Data Analytics         \\n')\n",
    "    f.write(\"Python is an awesome programming language. It's simple and easy\\n to learn. I can do it!!!\")\n",
    "    f.write(\"\\n\")\n",
    "    f.write(\" 파이썬은 Big Data/AI 시대의 필수적인 프로그래밍 언어로 자리 잡았으며\\nGoogle의 기본 개발언어로 사용되고 있습니다.\\n\")\n",
    "    f.write(\"여러분도 파이썬을 잘 익혀서 4차 산업혁명의 역군이 되기를 바랍니다.\\n\")\n",
    "    f.write(\" 3.14 36 18.2 'data science' 256 '999' 55\")\n",
    "\n",
    "# 숫자들의 갯수를 새기위해 0으로 초기화 해주기.\n",
    "count = 0\n",
    "\n",
    "# 숫자인지 판별해주는 함수. isdigit() 내장함수는 소숫점을 false로 return 하기때문에 직접 만들어주었다.\n",
    "def is_digit(word):\n",
    "    try:\n",
    "        tmp = float(word)\n",
    "        return True\n",
    "    except ValueError:\n",
    "        return False\n",
    "    \n",
    "# 파일을 read mode 로 open 한 후 read 하기.\n",
    "with open('TestFile_01.txt', 'r', encoding = 'utf-8') as f:\n",
    "    #line 마다 읽기\n",
    "    for line in f:\n",
    "        print(line)\n",
    "        # 만약 3.14로 시작한다면(마지막줄일때) word 단위로 끊어준다.\n",
    "        if line.startswith(' 3.14'):\n",
    "            word_list = line.split()\n",
    "            # word 중에 숫자가 있다면 count + 1 해주기 => '999' 는 그 자체로 string 이기 때문에 총 5개가 나옴.\n",
    "            for word in word_list:\n",
    "                if is_digit(word):\n",
    "                    count += 1\n",
    "                \n",
    "print(f\"\\n마지막줄에서 숫자의 갯수는 : {count} 입니다.\\n\")"
   ]
  },
  {
   "cell_type": "code",
   "execution_count": 87,
   "metadata": {},
   "outputs": [
    {
     "name": "stdout",
     "output_type": "stream",
     "text": [
      "Web Programming 2019 by Prof.Jhee\n",
      "WEB PROGRAMMING 2019 BY PROF.JHEE\n",
      "Web-Programming-2019-by-Prof.Jhee\n",
      "\n"
     ]
    }
   ],
   "source": [
    "# 파일을 read mode 로 open 한 후 read 하기.\n",
    "with open('TestFile_01.txt', 'r', encoding = 'utf-8') as f:\n",
    "    first_sentence = f.readline()\n",
    "    # 앞뒤부분에 space 없애기.\n",
    "    no_space = first_sentence.strip()\n",
    "    # 모두 대문자로 바꿔주기.\n",
    "    upper_sentence = no_space.upper()\n",
    "    # 띄워쓰기를 -로 대체하기\n",
    "    replace_sentence = no_space.replace(' ','-')\n",
    "\n",
    "# 앞뒤 공백 없앤것, 대문자로 바꿔준것, 띄워쓰기를 -로 대체한것을 TestFile_02.txt 에 기록하기.\n",
    "with open('TestFile_02.txt', 'w', encoding = 'utf-8') as f:\n",
    "    f.write('{}\\n'.format(no_space) )\n",
    "    f.write('{}\\n'.format(upper_sentence))\n",
    "    f.write('{}\\n'.format(replace_sentence))\n",
    "    \n",
    "#  잘 입력 되었는지 TestFile_02.txt 파일을 출력해보기\n",
    "with open('TestFile_02.txt', 'r', encoding = 'utf-8') as f:\n",
    "    print(f.read())"
   ]
  },
  {
   "cell_type": "code",
   "execution_count": null,
   "metadata": {},
   "outputs": [],
   "source": []
  }
 ],
 "metadata": {
  "kernelspec": {
   "display_name": "Python 3",
   "language": "python",
   "name": "python3"
  },
  "language_info": {
   "codemirror_mode": {
    "name": "ipython",
    "version": 3
   },
   "file_extension": ".py",
   "mimetype": "text/x-python",
   "name": "python",
   "nbconvert_exporter": "python",
   "pygments_lexer": "ipython3",
   "version": "3.6.10"
  }
 },
 "nbformat": 4,
 "nbformat_minor": 4
}
