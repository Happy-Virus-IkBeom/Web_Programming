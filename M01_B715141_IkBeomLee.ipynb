{
 "cells": [
  {
   "cell_type": "code",
   "execution_count": 2,
   "metadata": {},
   "outputs": [],
   "source": [
    "#Exercise1-1"
   ]
  },
  {
   "cell_type": "code",
   "execution_count": 3,
   "metadata": {},
   "outputs": [
    {
     "data": {
      "text/plain": [
       "35"
      ]
     },
     "execution_count": 3,
     "metadata": {},
     "output_type": "execute_result"
    }
   ],
   "source": [
    "3 + 2**3*4"
   ]
  },
  {
   "cell_type": "code",
   "execution_count": 4,
   "metadata": {},
   "outputs": [
    {
     "data": {
      "text/plain": [
       "14"
      ]
     },
     "execution_count": 4,
     "metadata": {},
     "output_type": "execute_result"
    }
   ],
   "source": [
    "3**2-4 + 13%5*3"
   ]
  },
  {
   "cell_type": "code",
   "execution_count": 5,
   "metadata": {},
   "outputs": [
    {
     "data": {
      "text/plain": [
       "-12.0"
      ]
     },
     "execution_count": 5,
     "metadata": {},
     "output_type": "execute_result"
    }
   ],
   "source": [
    "5*-2.4"
   ]
  },
  {
   "cell_type": "code",
   "execution_count": 6,
   "metadata": {},
   "outputs": [
    {
     "data": {
      "text/plain": [
       "2.0000000000000004"
      ]
     },
     "execution_count": 6,
     "metadata": {},
     "output_type": "execute_result"
    }
   ],
   "source": [
    "2**0.5*pow(2,0.5)"
   ]
  },
  {
   "cell_type": "code",
   "execution_count": 7,
   "metadata": {},
   "outputs": [
    {
     "data": {
      "text/plain": [
       "True"
      ]
     },
     "execution_count": 7,
     "metadata": {},
     "output_type": "execute_result"
    }
   ],
   "source": [
    "13/2*2==13"
   ]
  },
  {
   "cell_type": "code",
   "execution_count": 8,
   "metadata": {},
   "outputs": [
    {
     "data": {
      "text/plain": [
       "True"
      ]
     },
     "execution_count": 8,
     "metadata": {},
     "output_type": "execute_result"
    }
   ],
   "source": [
    "13//2*2 + 13%2 ==13"
   ]
  },
  {
   "cell_type": "code",
   "execution_count": 9,
   "metadata": {},
   "outputs": [
    {
     "data": {
      "text/plain": [
       "False"
      ]
     },
     "execution_count": 9,
     "metadata": {},
     "output_type": "execute_result"
    }
   ],
   "source": [
    "5*3 >= 30 - (6/3 + 1)**2"
   ]
  },
  {
   "cell_type": "code",
   "execution_count": 10,
   "metadata": {},
   "outputs": [
    {
     "data": {
      "text/plain": [
       "True"
      ]
     },
     "execution_count": 10,
     "metadata": {},
     "output_type": "execute_result"
    }
   ],
   "source": [
    "False or not False"
   ]
  },
  {
   "cell_type": "code",
   "execution_count": 11,
   "metadata": {},
   "outputs": [
    {
     "data": {
      "text/plain": [
       "-1"
      ]
     },
     "execution_count": 11,
     "metadata": {},
     "output_type": "execute_result"
    }
   ],
   "source": [
    "False or 5-3*2"
   ]
  },
  {
   "cell_type": "code",
   "execution_count": 12,
   "metadata": {},
   "outputs": [
    {
     "data": {
      "text/plain": [
       "False"
      ]
     },
     "execution_count": 12,
     "metadata": {},
     "output_type": "execute_result"
    }
   ],
   "source": [
    "3 < 5 < 4"
   ]
  },
  {
   "cell_type": "code",
   "execution_count": 13,
   "metadata": {},
   "outputs": [
    {
     "data": {
      "text/plain": [
       "True"
      ]
     },
     "execution_count": 13,
     "metadata": {},
     "output_type": "execute_result"
    }
   ],
   "source": [
    "3 > 0 or -5 > 0 and 1 < 5"
   ]
  },
  {
   "cell_type": "code",
   "execution_count": 14,
   "metadata": {},
   "outputs": [],
   "source": [
    "# Lab-01-1"
   ]
  },
  {
   "cell_type": "code",
   "execution_count": 16,
   "metadata": {},
   "outputs": [
    {
     "name": "stdout",
     "output_type": "stream",
     "text": [
      "5 7 3.1415 Hong Ik Univ.\n"
     ]
    }
   ],
   "source": [
    "nX = 5\n",
    "nY = 7\n",
    "dZ = 3.1415\n",
    "sW = \"Hong Ik Univ.\"\n",
    "print(nX, nY, dZ, sW)"
   ]
  },
  {
   "cell_type": "code",
   "execution_count": 17,
   "metadata": {},
   "outputs": [
    {
     "name": "stdout",
     "output_type": "stream",
     "text": [
      "10 21.9905 3.1415 Hong Ik Univ.\n"
     ]
    }
   ],
   "source": [
    "nX = nX * 2\n",
    "nY = nY * dZ\n",
    "print(nX, nY, dZ, sW)"
   ]
  },
  {
   "cell_type": "code",
   "execution_count": 18,
   "metadata": {},
   "outputs": [
    {
     "name": "stdout",
     "output_type": "stream",
     "text": [
      "3 1\n"
     ]
    }
   ],
   "source": [
    "print(nX//3, nX%3)"
   ]
  },
  {
   "cell_type": "code",
   "execution_count": 19,
   "metadata": {},
   "outputs": [
    {
     "name": "stdout",
     "output_type": "stream",
     "text": [
      "31415000000.0\n"
     ]
    }
   ],
   "source": [
    "print(dZ * 1e+10)"
   ]
  },
  {
   "cell_type": "code",
   "execution_count": 20,
   "metadata": {},
   "outputs": [
    {
     "data": {
      "text/plain": [
       "False"
      ]
     },
     "execution_count": 20,
     "metadata": {},
     "output_type": "execute_result"
    }
   ],
   "source": [
    "nX < nY <= dZ"
   ]
  },
  {
   "cell_type": "code",
   "execution_count": 21,
   "metadata": {},
   "outputs": [
    {
     "name": "stdout",
     "output_type": "stream",
     "text": [
      "Hong Ik Univ.Industrial Eng.\n"
     ]
    }
   ],
   "source": [
    "sW = sW + \"Industrial Eng.\"\n",
    "print(sW)"
   ]
  },
  {
   "cell_type": "code",
   "execution_count": 23,
   "metadata": {},
   "outputs": [
    {
     "ename": "TypeError",
     "evalue": "can't multiply sequence by non-int of type 'float'",
     "output_type": "error",
     "traceback": [
      "\u001b[1;31m---------------------------------------------------------------------------\u001b[0m",
      "\u001b[1;31mTypeError\u001b[0m                                 Traceback (most recent call last)",
      "\u001b[1;32m<ipython-input-23-8b8222b5baa6>\u001b[0m in \u001b[0;36m<module>\u001b[1;34m\u001b[0m\n\u001b[1;32m----> 1\u001b[1;33m \u001b[0mprint\u001b[0m\u001b[1;33m(\u001b[0m\u001b[1;33m(\u001b[0m \u001b[0mnX\u001b[0m \u001b[1;33m/\u001b[0m \u001b[1;36m3\u001b[0m\u001b[1;33m)\u001b[0m \u001b[1;33m*\u001b[0m \u001b[0msW\u001b[0m\u001b[1;33m)\u001b[0m\u001b[1;33m\u001b[0m\u001b[1;33m\u001b[0m\u001b[0m\n\u001b[0m",
      "\u001b[1;31mTypeError\u001b[0m: can't multiply sequence by non-int of type 'float'"
     ]
    }
   ],
   "source": [
    "print(( nX / 3) * sW)"
   ]
  },
  {
   "cell_type": "code",
   "execution_count": 24,
   "metadata": {},
   "outputs": [],
   "source": [
    "#Lab-01-2"
   ]
  },
  {
   "cell_type": "code",
   "execution_count": 27,
   "metadata": {},
   "outputs": [
    {
     "name": "stdout",
     "output_type": "stream",
     "text": [
      "원의 지름을 입력하세요~!: 7\n",
      "diameter = \n",
      " 7.0\n",
      "원의 둘레 = \n",
      " 21.991148575128552\n",
      "원의 면적 = \n",
      " 38.48451000647496\n"
     ]
    }
   ],
   "source": [
    "# 지름을 입력으로 원의 둘레와 면적 구하기\n",
    "\n",
    "import math\n",
    "\n",
    "#원의 둘레와 면적\n",
    "diameter = float(input(\"원의 지름을 입력하세요~!: \"))\n",
    "print(\"diameter = \\n\", diameter)\n",
    "print(\"원의 둘레 = \\n\", math.pi * diameter)\n",
    "print(\"원의 면적 = \\n\", math.pi * pow(diameter/2,2))"
   ]
  },
  {
   "cell_type": "code",
   "execution_count": 28,
   "metadata": {},
   "outputs": [
    {
     "name": "stdout",
     "output_type": "stream",
     "text": [
      "변1의 길이를 입력하세요~!: 3.5\n",
      "변2의 길이를 입력하세요~!: 6.5\n",
      "첫번째변 = \n",
      " 3.5\n",
      "두번째변 = \n",
      " 6.5\n",
      "끼인각 = 90도\n",
      "사각형의 면적 =  22.75\n"
     ]
    }
   ],
   "source": [
    "# 두변을 입력으로 사각형의 면적 구하기 => 두변만을 입력으로 받으므로 직사각형으로 가정.\n",
    "\n",
    "a = float(input(\"변1의 길이를 입력하세요~!: \"))\n",
    "b = float(input(\"변2의 길이를 입력하세요~!: \"))\n",
    "\n",
    "print(\"첫번째변 = \\n\", a)\n",
    "print(\"두번째변 = \\n\", b)\n",
    "print(\"끼인각 = 90도\")\n",
    "\n",
    "print(\"사각형의 면적 = \", a*b)"
   ]
  },
  {
   "cell_type": "code",
   "execution_count": 29,
   "metadata": {},
   "outputs": [
    {
     "name": "stdout",
     "output_type": "stream",
     "text": [
      "밑변의 길이를 입력하세요~!: 3\n",
      "높이의 길이를 입력하세요~!: 5\n",
      "밑변 = \n",
      " 3.0\n",
      "높이 = \n",
      " 5.0\n",
      "삼각형의 면적 =  7.5\n"
     ]
    }
   ],
   "source": [
    "# 삼격형의 면적 구하기\n",
    "\n",
    "c = float(input(\"밑변의 길이를 입력하세요~!: \"))\n",
    "h = float(input(\"높이의 길이를 입력하세요~!: \"))\n",
    "\n",
    "print(\"밑변 = \\n\", c)\n",
    "print(\"높이 = \\n\", h)\n",
    "\n",
    "print(\"삼각형의 면적 = \", c * h / 2)"
   ]
  },
  {
   "cell_type": "code",
   "execution_count": 30,
   "metadata": {},
   "outputs": [],
   "source": [
    "#Lab-01-3"
   ]
  },
  {
   "cell_type": "code",
   "execution_count": 38,
   "metadata": {},
   "outputs": [
    {
     "name": "stdout",
     "output_type": "stream",
     "text": [
      "Enter an amount of Money you want: <from 1 cent ~ 99cents> 86\n",
      "Amount of Money you want is : 86 cents \n",
      "Amount of Quarters are : 3\n",
      "Amount of Dimes are : 1\n",
      "Amount of Nickles are : 0\n",
      "Amount of Pennies are : 1\n"
     ]
    }
   ],
   "source": [
    "# Vending Machine Change Maker\n",
    "\n",
    "# 돈의 양 => input\n",
    "Amount_Of_Money = int(input(\"Enter an amount of Money you want: <from 1 cent ~ 99cents> \"))\n",
    "print( \"Amount of Money you want is : {} cents \".format(Amount_Of_Money))\n",
    "\n",
    "# 동전 갯수 구하기\n",
    "Amount_Of_Quarter = Amount_Of_Money // 25\n",
    "Remainder = Amount_Of_Money % 25\n",
    "Amount_Of_Dime = Remainder // 10\n",
    "Remainder = Amount_Of_Dime % 10\n",
    "Amount_Of_Nickle = Remainder // 5\n",
    "Remainder = Amount_Of_Money % 5\n",
    "\n",
    "# 필요한 최소 코인 갯수 출력\n",
    "\n",
    "print(\"Amount of Quarters are : {}\".format(Amount_Of_Quarter))\n",
    "print(\"Amount of Dimes are : {}\".format(Amount_Of_Dime))\n",
    "print(\"Amount of Nickles are : {}\".format(Amount_Of_Nickle))\n",
    "print(\"Amount of Pennies are : {}\".format(Remainder))"
   ]
  }
 ],
 "metadata": {
  "kernelspec": {
   "display_name": "Python 3",
   "language": "python",
   "name": "python3"
  },
  "language_info": {
   "codemirror_mode": {
    "name": "ipython",
    "version": 3
   },
   "file_extension": ".py",
   "mimetype": "text/x-python",
   "name": "python",
   "nbconvert_exporter": "python",
   "pygments_lexer": "ipython3",
   "version": "3.6.10"
  }
 },
 "nbformat": 4,
 "nbformat_minor": 4
}
