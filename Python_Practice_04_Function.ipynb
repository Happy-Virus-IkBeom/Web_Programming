{
 "cells": [
  {
   "cell_type": "code",
   "execution_count": 48,
   "metadata": {},
   "outputs": [],
   "source": [
    "def func_a(x,y):\n",
    "    temp = x * y + 2\n",
    "    return temp\n",
    "\n",
    "def func_b(x,y):\n",
    "    temp = x + y + 10\n",
    "    return temp"
   ]
  },
  {
   "cell_type": "code",
   "execution_count": 4,
   "metadata": {},
   "outputs": [
    {
     "data": {
      "text/plain": [
       "156"
      ]
     },
     "execution_count": 4,
     "metadata": {},
     "output_type": "execute_result"
    }
   ],
   "source": [
    "func_a(5,3)+ func_b(2,5) + func_a(5,func_b(6,8))"
   ]
  },
  {
   "cell_type": "markdown",
   "metadata": {},
   "source": [
    "함수의 기본 구조:\n",
    "\n",
    "\n",
    "def 함수명(매개변수1, 매개변수 2, ..., 매개변수 n):\n",
    "    <코드 블록>\n",
    "    return <반환 값>\n",
    "    \n",
    "Definition + Function Call + Parameter + Return Value 로 구성.\n",
    "여기서 Return Value는 있을수도 있고 없을수도 있다.\n",
    "\n",
    "=> 공통으로 자주 사용되는 코드를 함수로 변환\n",
    "=> 함수의 역할과 의도를 함수명에 부여할 것\n",
    "=> 함수는 가능하면 짧게 작성할 것\n",
    "\n",
    "Python Coding Convention: google python style guide"
   ]
  },
  {
   "cell_type": "code",
   "execution_count": 28,
   "metadata": {},
   "outputs": [],
   "source": [
    "# Func - 1 \n",
    "def my_first_func():\n",
    "    print(\"This Function has no parameters and return values\")"
   ]
  },
  {
   "cell_type": "code",
   "execution_count": 29,
   "metadata": {},
   "outputs": [
    {
     "name": "stdout",
     "output_type": "stream",
     "text": [
      "This Function has no parameters and return values\n"
     ]
    }
   ],
   "source": [
    "my_first_func()"
   ]
  },
  {
   "cell_type": "code",
   "execution_count": 30,
   "metadata": {},
   "outputs": [],
   "source": [
    "# Func - 2\n",
    "def my_friend_func(sName):\n",
    "    print(\"{} is my friend!\".format(sName))\n",
    "    print(\"This function has a parameter but no return values\")"
   ]
  },
  {
   "cell_type": "code",
   "execution_count": 31,
   "metadata": {},
   "outputs": [
    {
     "name": "stdout",
     "output_type": "stream",
     "text": [
      "Python is my friend!\n",
      "This function has a parameter but no return values\n"
     ]
    }
   ],
   "source": [
    "my_friend_func(\"Python\")"
   ]
  },
  {
   "cell_type": "code",
   "execution_count": 32,
   "metadata": {},
   "outputs": [
    {
     "name": "stdout",
     "output_type": "stream",
     "text": [
      "0 is my friend!\n",
      "This function has a parameter but no return values\n"
     ]
    }
   ],
   "source": [
    "Python = 0\n",
    "my_friend_func(Python)"
   ]
  },
  {
   "cell_type": "markdown",
   "metadata": {},
   "source": [
    "이렇게 인자로 변수를 넘겨줄때는 초기화를 해줘야함. 안그러면 오류생김"
   ]
  },
  {
   "cell_type": "code",
   "execution_count": 33,
   "metadata": {},
   "outputs": [],
   "source": [
    "# Func - 3\n",
    "def triangle_area(x,y):\n",
    "    print(\"this function has two parameter and a return value\")\n",
    "    return (x * y) / 2"
   ]
  },
  {
   "cell_type": "code",
   "execution_count": 34,
   "metadata": {},
   "outputs": [
    {
     "name": "stdout",
     "output_type": "stream",
     "text": [
      "this function has two parameter and a return value\n",
      "6.0\n"
     ]
    }
   ],
   "source": [
    "print(triangle_area(3,4))"
   ]
  },
  {
   "cell_type": "markdown",
   "metadata": {},
   "source": [
    "Func - 3 처럼 return 반환값이 어떻게 쓰일지 모르므로,\n",
    "ex) print로 쓰일수도 있고 나중에 다시 계산에 쓰일지 모른다.\n",
    "\n",
    "그러므로, return 에는 값 자체를 반환하는것이 좋다. => 활용도를 높일 수 있음."
   ]
  },
  {
   "cell_type": "code",
   "execution_count": 35,
   "metadata": {},
   "outputs": [],
   "source": [
    "# Func - 4\n",
    "def no_params_func():\n",
    "    print(\"this function has no parameter but a return value\")\n",
    "    return 3.1415"
   ]
  },
  {
   "cell_type": "code",
   "execution_count": 36,
   "metadata": {},
   "outputs": [
    {
     "name": "stdout",
     "output_type": "stream",
     "text": [
      "this function has no parameter but a return value\n",
      "3.1415\n"
     ]
    }
   ],
   "source": [
    "print(no_params_func())"
   ]
  },
  {
   "cell_type": "code",
   "execution_count": 52,
   "metadata": {},
   "outputs": [],
   "source": [
    "# Scoping Rule : 변수의 사용 범위 => local / global\n",
    "# 실제로 코딩할때는 아래처럼 변수를 헷갈리게 코딩하지 말기\n",
    "\n",
    "def test_scope(t):\n",
    "    print(\"t in func 1 =\", t)\n",
    "    t = 20\n",
    "    x = 150\n",
    "    print(\"x in func 1 =\", x)"
   ]
  },
  {
   "cell_type": "code",
   "execution_count": 53,
   "metadata": {},
   "outputs": [
    {
     "name": "stdout",
     "output_type": "stream",
     "text": [
      "x in main 1 = 100\n",
      "t in func 1 = 100\n",
      "x in func 1 = 150\n",
      "x in main 2 = 100\n"
     ]
    }
   ],
   "source": [
    "x = 100\n",
    "print(\"x in main 1 =\", x)\n",
    "test_scope(x)\n",
    "print(\"x in main 2 =\", x)"
   ]
  },
  {
   "cell_type": "code",
   "execution_count": 54,
   "metadata": {},
   "outputs": [
    {
     "ename": "NameError",
     "evalue": "name 't' is not defined",
     "output_type": "error",
     "traceback": [
      "\u001b[1;31m---------------------------------------------------------------------------\u001b[0m",
      "\u001b[1;31mNameError\u001b[0m                                 Traceback (most recent call last)",
      "\u001b[1;32m<ipython-input-54-493c647c8713>\u001b[0m in \u001b[0;36m<module>\u001b[1;34m\u001b[0m\n\u001b[1;32m----> 1\u001b[1;33m \u001b[0mprint\u001b[0m\u001b[1;33m(\u001b[0m\u001b[1;34m\"t in main 3 =\"\u001b[0m\u001b[1;33m,\u001b[0m \u001b[0mt\u001b[0m\u001b[1;33m)\u001b[0m\u001b[1;33m\u001b[0m\u001b[1;33m\u001b[0m\u001b[0m\n\u001b[0m",
      "\u001b[1;31mNameError\u001b[0m: name 't' is not defined"
     ]
    }
   ],
   "source": [
    "print(\"t in main 3 =\", t)"
   ]
  },
  {
   "cell_type": "markdown",
   "metadata": {},
   "source": [
    "함수 호출 방식:\n",
    "\n",
    "Call by Value : 함수는 전달된 인수의 값을 넘겨 받는다\n",
    "Call by Reference : 함수는 전달된 인수의 주소 값을 넘겨 받는다.\n",
    "\n",
    "Python 의 함수 호출 방식은 Call by Object Reference 이다.\n",
    "따라서 list, set, dictionary 를 함수의 인수로 사용할 때는 주의하여야 한다.\n",
    "\n",
    "list => Mutable"
   ]
  },
  {
   "cell_type": "code",
   "execution_count": 67,
   "metadata": {},
   "outputs": [],
   "source": [
    "# Call by Value vs. Call by Reference\n",
    "\n",
    "def call_func(parm1, parm2):\n",
    "    z = parm1 * 2\n",
    "    wlist = parm2\n",
    "    parm2.append(\"Banana\")\n",
    "    print(\"In call_func z = {} wlist = {}\\n\".format(z, wlist))\n",
    "    parm2[2] = \"Pear\"\n",
    "    print(\"In call_func z = {} parm2 = {}\\n\".format(z, parm2))\n",
    "    wlist.append(\"Grape\")\n",
    "    print(\"In call_func z = {} wlist = {}\".format(z, wlist))\n",
    "    print(\"In call_func z = {} parm2 = {}\\n\".format(z, parm2))\n",
    "    \n",
    "    parm1 = 30\n",
    "    print(\"In call_func parm1 = {} parm2 = {}\".format(parm1, parm2))\n",
    "    print(\"In call_func x = {} parm2 = {}\\n\".format(x, parm2)) ## Caution!!"
   ]
  },
  {
   "cell_type": "code",
   "execution_count": 68,
   "metadata": {},
   "outputs": [
    {
     "name": "stdout",
     "output_type": "stream",
     "text": [
      "In call_func z = 20 wlist = ['Apple', 'Orange', 'Banana']\n",
      "\n",
      "In call_func z = 20 parm2 = ['Apple', 'Orange', 'Pear']\n",
      "\n",
      "In call_func z = 20 wlist = ['Apple', 'Orange', 'Pear', 'Grape']\n",
      "In call_func z = 20 parm2 = ['Apple', 'Orange', 'Pear', 'Grape']\n",
      "\n",
      "In call_func parm1 = 30 parm2 = ['Apple', 'Orange', 'Pear', 'Grape']\n",
      "In call_func x = 10 parm2 = ['Apple', 'Orange', 'Pear', 'Grape']\n",
      "\n",
      "In main x = 10 y = ['Apple', 'Orange', 'Pear', 'Grape']\n"
     ]
    }
   ],
   "source": [
    "x = 10\n",
    "y = [\"Apple\", \"Orange\"]\n",
    "call_func(x,y)\n",
    "print(\"In main x = {} y = {}\".format(x,y))"
   ]
  },
  {
   "cell_type": "code",
   "execution_count": 69,
   "metadata": {},
   "outputs": [],
   "source": [
    "# Argument Passing : Default, Keyword, Variable-length\n",
    "\n",
    "#Default Argument\n",
    "def foo_default(sName1, sName2 = \"이 몽룡\"):\n",
    "    print(\"In foo_default : 안녕 {}! 난 {}이야!\".format(sName1, sName2))"
   ]
  },
  {
   "cell_type": "code",
   "execution_count": 72,
   "metadata": {},
   "outputs": [
    {
     "name": "stdout",
     "output_type": "stream",
     "text": [
      "In foo_default : 안녕 변사또! 난 이 몽룡이야!\n",
      "In foo_default : 안녕 갑순! 난 갑돌이야!\n"
     ]
    }
   ],
   "source": [
    "foo_default(\"변사또\")\n",
    "foo_default(\"갑순\", \"갑돌\")"
   ]
  },
  {
   "cell_type": "code",
   "execution_count": 73,
   "metadata": {},
   "outputs": [],
   "source": [
    "#keword Argument\n",
    "def foo_keyword(sName1, sName2):\n",
    "    print(\"In foo_keyword : 안녕 {}! 난 {}이야!\".format(sName1, sName2))"
   ]
  },
  {
   "cell_type": "code",
   "execution_count": 75,
   "metadata": {},
   "outputs": [
    {
     "name": "stdout",
     "output_type": "stream",
     "text": [
      "In foo_keyword : 안녕 변사또! 난 이 몽룡이야!\n",
      "In foo_keyword : 안녕 갑돌! 난 갑순이야!\n"
     ]
    }
   ],
   "source": [
    "foo_keyword(sName2 = \"이 몽룡\", sName1 = \"변사또\") # argument 위치 확인.\n",
    "foo_keyword(\"갑돌\", \"갑순\")"
   ]
  },
  {
   "cell_type": "code",
   "execution_count": 76,
   "metadata": {},
   "outputs": [],
   "source": [
    "# Varialbe-length Arguments\n",
    "def foo_variable(sName1, *sName2):\n",
    "    print(\"In foo_varialbe: 안녕 {}! 난 {}이야!\".format(sName2, sName2))"
   ]
  },
  {
   "cell_type": "code",
   "execution_count": 78,
   "metadata": {},
   "outputs": [
    {
     "name": "stdout",
     "output_type": "stream",
     "text": [
      "In foo_varialbe: 안녕 ('갑돌', '삼돌', '영구')! 난 ('갑돌', '삼돌', '영구')이야!\n"
     ]
    }
   ],
   "source": [
    "foo_variable(\"최진사\",\"갑돌\",\"삼돌\",\"영구\")"
   ]
  },
  {
   "cell_type": "code",
   "execution_count": 81,
   "metadata": {},
   "outputs": [],
   "source": [
    "def foo_via_unpack(*args):\n",
    "    print(\"In foo_va_unpack :\",sum(args))\n",
    "    nx1, nx2, *nx3 = args\n",
    "    print(\"In foo_va_unpack :\",nx1, nx2, nx3)\n",
    "    return nx1, nx2, nx3"
   ]
  },
  {
   "cell_type": "code",
   "execution_count": 82,
   "metadata": {},
   "outputs": [
    {
     "name": "stdout",
     "output_type": "stream",
     "text": [
      "In foo_va_unpack : 55\n",
      "In foo_va_unpack : 1 2 [3, 4, 5, 6, 7, 8, 9, 10]\n",
      "In main : (1, 2, [3, 4, 5, 6, 7, 8, 9, 10])\n"
     ]
    }
   ],
   "source": [
    "print(\"In main :\", foo_via_unpack(1,2,3,4,5,6,7,8,9,10))"
   ]
  },
  {
   "cell_type": "markdown",
   "metadata": {},
   "source": [
    "가변 인수의 경우 Unpacking 할때 :\n",
    "\n",
    "나머지 값들이 list로 변환됨\n",
    "\n",
    "함수의 반환 값이 여러 개일 때:\n",
    "\n",
    "Tuple로 반환된다."
   ]
  },
  {
   "cell_type": "code",
   "execution_count": 88,
   "metadata": {},
   "outputs": [
    {
     "name": "stdout",
     "output_type": "stream",
     "text": [
      "Input an integer = 6\n",
      "6 * fact_RC( 5 )\n",
      "5 * fact_RC( 4 )\n",
      "4 * fact_RC( 3 )\n",
      "3 * fact_RC( 2 )\n",
      "2 * fact_RC( 1 )\n",
      "The Factorial of 6 is 720\n"
     ]
    }
   ],
   "source": [
    "# Recursion Function (재귀함수)\n",
    "\n",
    "def fact_RC(tNum):\n",
    "    \"\"\"이 함수는 양의 정수에 대해\n",
    "     팩토리얼 계산을 하는 재귀함수 입니다.\"\"\"\n",
    "    if tNum < 0:\n",
    "        return None\n",
    "    elif tNum ==0 or tNum ==1:\n",
    "        return 1\n",
    "    else:\n",
    "        print(tNum, \"* fact_RC(\", tNum - 1, \")\")\n",
    "        return tNum * fact_RC(tNum -1)\n",
    "    \n",
    "nNum = int(input(\"Input an integer = \"))\n",
    "print(\"The Factorial of\", nNum, \"is\", fact_RC(nNum))"
   ]
  },
  {
   "cell_type": "markdown",
   "metadata": {},
   "source": [
    "N! = 1 * 2 * ... * (N-1) * N\n",
    "\n",
    "종료 조건 : 1! = 1\n",
    "재귀 관계 : N! = (N-1)! * N"
   ]
  },
  {
   "cell_type": "code",
   "execution_count": 89,
   "metadata": {},
   "outputs": [
    {
     "name": "stdout",
     "output_type": "stream",
     "text": [
      "lambda :  71\n",
      "lambda stored 127\n"
     ]
    }
   ],
   "source": [
    "# Labda Function & Map Function => 익명의 작은 함수로 1회성으로 잠시 사용하는 함수 : in-line function\n",
    "\n",
    "print(\"lambda : \",(lambda x: x**3 + x + 3)(4))\n",
    "\n",
    "my_square_eq = lambda a,b,c,x : a*x**2 + b*x + c\n",
    "print(\"lambda stored\", my_square_eq(2,3,8,7))"
   ]
  },
  {
   "cell_type": "markdown",
   "metadata": {},
   "source": [
    "(lambda <인자> : <인자 활용 수행 코드>) (<인자>)\n",
    "\n",
    "메모리를 아끼고 가독성을 향상시키는 장점이 있다.\n",
    "재사용을 위해 변수에 람다 함수를 할당할 수 있다."
   ]
  },
  {
   "cell_type": "code",
   "execution_count": 90,
   "metadata": {},
   "outputs": [
    {
     "name": "stdout",
     "output_type": "stream",
     "text": [
      "map-lambda 1 : [1, 4, 9, 16]\n",
      "map-lambda 2 : [1, 8, 27, 64, 125]\n",
      "map-lambda3 : [13, 22, 35, 52, 73]\n"
     ]
    }
   ],
   "source": [
    "# Lambda Function & Map Function\n",
    "\n",
    "nList = [1,2,3,4]\n",
    "\n",
    "nResult = list(map(lambda x : x*x, nList)) # map 이 nList 의 원소를 하나씩 꺼내서 mapping 시켜줌.\n",
    "print(\"map-lambda 1 :\", nResult)\n",
    "\n",
    "nResult2 = list(map(lambda x : x**3, range(1,6)))\n",
    "print(\"map-lambda 2 :\", nResult2)\n",
    "\n",
    "my_sq = lambda x : 2*x**2 + 3*x + 8\n",
    "nResult3 = list(map(my_sq, range(1,6)))\n",
    "print(\"map-lambda3 :\", nResult3)"
   ]
  }
 ],
 "metadata": {
  "kernelspec": {
   "display_name": "Python 3",
   "language": "python",
   "name": "python3"
  },
  "language_info": {
   "codemirror_mode": {
    "name": "ipython",
    "version": 3
   },
   "file_extension": ".py",
   "mimetype": "text/x-python",
   "name": "python",
   "nbconvert_exporter": "python",
   "pygments_lexer": "ipython3",
   "version": "3.6.10"
  }
 },
 "nbformat": 4,
 "nbformat_minor": 4
}
