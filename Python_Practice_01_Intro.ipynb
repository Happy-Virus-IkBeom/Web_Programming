{
 "cells": [
  {
   "cell_type": "code",
   "execution_count": 20,
   "metadata": {},
   "outputs": [
    {
     "name": "stdout",
     "output_type": "stream",
     "text": [
      "Enter your name: IkBeomLee\n",
      "Your Name is Correct\n",
      "Pass\n"
     ]
    }
   ],
   "source": [
    "Your_Name = input(\"Enter your name: \")\n",
    "\n",
    "if Your_Name == 'IkBeomLee':\n",
    "    \n",
    "    print(\"Your Name is Correct\")\n",
    "    print(\"Pass\")\n",
    "\n",
    "else:\n",
    "    print(\"ERROR\")"
   ]
  },
  {
   "cell_type": "code",
   "execution_count": 27,
   "metadata": {},
   "outputs": [
    {
     "name": "stdout",
     "output_type": "stream",
     "text": [
      "[2, 3, 5, 7, 11, 13, 17, 19]\n"
     ]
    }
   ],
   "source": [
    "# Prime Number 구하기\n",
    "\n",
    "# Initialize a list => 자료를 묶는용도 => 처음에 primes는 빈 list 이고 나중에 여기다가 저장을 함.\n",
    "primes = []\n",
    "\n",
    "for possiblePrime in range(2,21):\n",
    "    \n",
    "    # Assume number is prime until shown it is not.\n",
    "    isPrime = True\n",
    "    for num in range(2, possiblePrime):\n",
    "        if possiblePrime % num ==0:\n",
    "            isPrime = False\n",
    "            break\n",
    "            \n",
    "    if isPrime:\n",
    "        primes.append(possiblePrime) # list 에 추가\n",
    "\n",
    "print(primes)"
   ]
  },
  {
   "cell_type": "code",
   "execution_count": null,
   "metadata": {},
   "outputs": [],
   "source": []
  }
 ],
 "metadata": {
  "kernelspec": {
   "display_name": "Python 3",
   "language": "python",
   "name": "python3"
  },
  "language_info": {
   "codemirror_mode": {
    "name": "ipython",
    "version": 3
   },
   "file_extension": ".py",
   "mimetype": "text/x-python",
   "name": "python",
   "nbconvert_exporter": "python",
   "pygments_lexer": "ipython3",
   "version": "3.6.10"
  }
 },
 "nbformat": 4,
 "nbformat_minor": 4
}
