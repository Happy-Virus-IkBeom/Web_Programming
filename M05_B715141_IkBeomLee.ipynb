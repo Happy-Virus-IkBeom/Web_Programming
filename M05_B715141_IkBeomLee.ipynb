{
 "cells": [
  {
   "cell_type": "markdown",
   "metadata": {},
   "source": [
    "# Lab - 05 - 01 : Calculator 예제 확장"
   ]
  },
  {
   "cell_type": "code",
   "execution_count": 22,
   "metadata": {},
   "outputs": [],
   "source": [
    "# Calculator 예제 구현\n",
    "\n",
    "# class Calculator => add, substract, multiply, divide, exponent methods 포함. 그리고 divide zero 방지 methods 추가.\n",
    "class Calculator:\n",
    "    def __init__(self, dNum1, dNum2):\n",
    "        self.dNum1 = dNum1\n",
    "        self.dNum2 = dNum2\n",
    "        self.result = 0\n",
    "        \n",
    "    def add(self):\n",
    "        self.result = self.dNum1 + self.dNum2\n",
    "        return self.result\n",
    "    \n",
    "    def substract(self):\n",
    "        self.result =  self.dNum1 - self.dNum2\n",
    "        return self.result\n",
    "    \n",
    "    def multiply(self):\n",
    "        self.result =  self.dNum1 + self.dNum2\n",
    "        return self.result\n",
    "    \n",
    "    #Divide Zero 방지\n",
    "    def divide(self):\n",
    "        if self.dNum2 == 0.0:\n",
    "            self.result = float('inf') # infinity\n",
    "            return self.result\n",
    "        else:\n",
    "            self.result = self.dNum1 / self.dNum2\n",
    "            return self.result\n",
    "        \n",
    "    def exponent(self):\n",
    "        self.result = self.dNum1 ** self.dNum2\n",
    "        return self.result"
   ]
  },
  {
   "cell_type": "code",
   "execution_count": 23,
   "metadata": {},
   "outputs": [],
   "source": [
    "# MaxLimitCal class => class Calculator 을 상속받아 Limit 값 제한하기.\n",
    "class MaxLimitCal(Calculator):\n",
    "    \n",
    "    # super() 함수로 기존의 add 함수의 result를 가져와 max 결과 제한\n",
    "    def add(self):\n",
    "        super().add()\n",
    "        if self.result > 10000 :\n",
    "            return 10000\n",
    "        elif self.result < -999 :\n",
    "            return -999\n",
    "        \n",
    "    # super() 함수로 기존의 substract 함수의 result를 가져와 max 결과 제한\n",
    "    def substract(self):\n",
    "        super().substract()\n",
    "        if self.result > 10000 :\n",
    "            return 10000\n",
    "        elif self.result < -999 :\n",
    "            return -999\n",
    "        \n",
    "    # super() 함수로 기존의 multiply 함수의 result를 가져와 max 결과 제한\n",
    "    def multiply(self):\n",
    "        super().multiply()\n",
    "        if self.result > 10000 :\n",
    "            return 10000\n",
    "        elif self.result < -999 :\n",
    "            return -999\n",
    "        \n",
    "    # super() 함수로 기존의 divide 함수의 result를 가져와 max 결과 제한    \n",
    "    def divide(self):\n",
    "        super().divide()\n",
    "        if self.result > 10000 :\n",
    "            return 10000\n",
    "        elif self.result < -999 :\n",
    "            return -999\n",
    "        "
   ]
  },
  {
   "cell_type": "code",
   "execution_count": 26,
   "metadata": {},
   "outputs": [
    {
     "name": "stdout",
     "output_type": "stream",
     "text": [
      "10000\n",
      "-999\n",
      "10000\n"
     ]
    }
   ],
   "source": [
    "# 9000 + 2000 의 결과를 10000으로 제한하는 결과 보여주기.\n",
    "x = MaxLimitCal(9000, 2000)\n",
    "print(x.add())\n",
    "\n",
    "# -9999 * 2 의 결과를 -999로 제한하는 결과 보여주기.\n",
    "y = MaxLimitCal(-9999,2)\n",
    "print(y.multiply())\n",
    "\n",
    "# 8000 / ( 1/2 ) 의 결과를 10000 으로 제한하는 결과 보여주기.\n",
    "z = MaxLimitCal(8000, 1/2)\n",
    "print(z.divide())"
   ]
  },
  {
   "cell_type": "markdown",
   "metadata": {},
   "source": [
    "# Lab - 05 - 02 : Guessing Game 확장"
   ]
  },
  {
   "cell_type": "code",
   "execution_count": 20,
   "metadata": {},
   "outputs": [],
   "source": [
    "import random\n",
    "\n",
    "class Guessing_game():\n",
    "    \n",
    "    # 0 ~ 100 사이의 수를 하나 생성하여 기억, count = 0 으로 초기화.\n",
    "    def __init__(self):\n",
    "        self.number = random.randint(0, 100)\n",
    "        print(self.number)\n",
    "        self.count = 0\n",
    "        self.sign = 'keep_going' # 정답을 맞추었을때 stop 으로 sign 이 바뀌면서 iteration을 그만두게 할 수 있는 변수\n",
    "    \n",
    "    def guess(self):\n",
    "        self.guess_number = int(input(\" 0 ~ 100 중에 하나를 맞추어보세요. \"))\n",
    "\n",
    "    # Error check methods. self.guess 가 100보다 크거나 0보다 작다면 오류메세지 출력하기. 만약 잘 되었다면 count + 1하기\n",
    "    def error_check(self):\n",
    "        if self.guess_number < 0 or self.guess_number > 100:\n",
    "            print(\"Error. It must be not less than 0 and not more than 100 \")\n",
    "        else:\n",
    "            self.count += 1\n",
    "            \n",
    "    # decision methods. \n",
    "    def decision(self):\n",
    "        \n",
    "        # 기억된 값 보다 작으면 “Guess 를 출력하기\n",
    "        if self.guess_number < self.number:\n",
    "            print(\"Guess Bigger! \")\n",
    "        #기억된 값 보다 크면 “Guess 를 출력하기\n",
    "        elif self.guess_number > self.number:\n",
    "            print(\"Guess Smaller! \")\n",
    "        #기억된 값과 같으면 “You got 을 출력한 후 종료한다 .\n",
    "        else: \n",
    "            print(\"You got it! \")\n",
    "            self.sign = 'stop' # 정답을 맞출경우 sign 을 'stop' 으로 바꾸어준다.\n",
    "    \n",
    "    #iteration methods => self.sign 이 'keep_going' 일때 iteration 반복. 혹은 self.count 가 20이 넘어가는 순간 break\n",
    "    def iteration(self):\n",
    "        while self.sign == 'keep_going':\n",
    "            self.guess()\n",
    "            self.error_check()\n",
    "            self.decision()\n",
    "            if self.count == 20 :\n",
    "                break\n",
    "    \n",
    "    #입력 횟수인 self.count 에 따라 excellent//good//poor 의 세가지로 일의 잘함을 측정함.\n",
    "    def result(self):\n",
    "        # 총 입력 회수가 5 회 이하이면 Excellent 를, 총 입력 회수가 10 회 이하이면 Good 을 출력\n",
    "        if self.count < 10 or self.count == 10:\n",
    "            if self.count < 5 or self.count == 5:\n",
    "                print(f'the count number of your predictions is: {self.count}')\n",
    "                print(\"Excellent\")\n",
    "            else:\n",
    "                print(f'the count number of your predictions is: {self.count}')\n",
    "                print(\"Good\")\n",
    "\n",
    "        # 총 입력 회수가 10 회 초과이면  Poor 를 출력.    \n",
    "        elif self.count > 10:\n",
    "            print(f'the count number of your predictions is: {self.count}')\n",
    "            print(\"Poor\") \n",
    "            "
   ]
  },
  {
   "cell_type": "code",
   "execution_count": 21,
   "metadata": {},
   "outputs": [
    {
     "name": "stdout",
     "output_type": "stream",
     "text": [
      "84\n",
      " 0 ~ 100 중에 하나를 맞추어보세요. 70\n",
      "Guess Bigger! \n",
      " 0 ~ 100 중에 하나를 맞추어보세요. 90\n",
      "Guess Smaller! \n",
      " 0 ~ 100 중에 하나를 맞추어보세요. 80\n",
      "Guess Bigger! \n",
      " 0 ~ 100 중에 하나를 맞추어보세요. 85\n",
      "Guess Smaller! \n",
      " 0 ~ 100 중에 하나를 맞추어보세요. 84\n",
      "You got it! \n",
      "the count number of your predictions is: 5\n",
      "Excellent\n"
     ]
    }
   ],
   "source": [
    "x = Guessing_game()\n",
    "x.iteration()\n",
    "x.result()"
   ]
  },
  {
   "cell_type": "code",
   "execution_count": null,
   "metadata": {},
   "outputs": [],
   "source": []
  }
 ],
 "metadata": {
  "kernelspec": {
   "display_name": "Python 3",
   "language": "python",
   "name": "python3"
  }
 },
 "nbformat": 4,
 "nbformat_minor": 4
}
