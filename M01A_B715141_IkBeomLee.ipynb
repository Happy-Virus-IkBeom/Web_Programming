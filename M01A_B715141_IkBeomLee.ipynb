{
 "cells": [
  {
   "cell_type": "markdown",
   "metadata": {},
   "source": [
    "# Exercise 2-1 : List"
   ]
  },
  {
   "cell_type": "code",
   "execution_count": 8,
   "metadata": {},
   "outputs": [],
   "source": [
    "# List a 는 홀수 1, 3, 5 를 , List b 는 짝수 2, 4, 6 을 , 원소로 갖는다\n",
    "Lista = [1, 3, 5]\n",
    "Listb = [2, 4, 6]"
   ]
  },
  {
   "cell_type": "code",
   "execution_count": 9,
   "metadata": {},
   "outputs": [
    {
     "name": "stdout",
     "output_type": "stream",
     "text": [
      "Listc is:  [1, 3, 5, 2, 4, 6]\n"
     ]
    }
   ],
   "source": [
    "# List c 는 list a, b 를 합한 것이다 . 순서는 중요하지 않음\n",
    "Listc = Lista + Listb\n",
    "print(\"Listc is: \", Listc)"
   ]
  },
  {
   "cell_type": "code",
   "execution_count": 10,
   "metadata": {},
   "outputs": [
    {
     "name": "stdout",
     "output_type": "stream",
     "text": [
      "Listd is:  [1, 2, 3, 4, 5, 6]\n",
      "Listc is:  [1, 3, 5, 2, 4, 6]\n"
     ]
    }
   ],
   "source": [
    "# List d 는 c 의 a sorted copy 이다 . 단 , c 는 변하면 안됨\n",
    "Listd = sorted(Listc)\n",
    "print(\"Listd is: \", Listd)\n",
    "print(\"Listc is: \", Listc)"
   ]
  },
  {
   "cell_type": "code",
   "execution_count": 11,
   "metadata": {},
   "outputs": [
    {
     "name": "stdout",
     "output_type": "stream",
     "text": [
      "Reverse of Listd is:  [6, 5, 4, 3, 2, 1]\n"
     ]
    }
   ],
   "source": [
    "# List d 의 요소들을 역순으로 변경하라 . (d 자체 변경\n",
    "Listd.reverse()\n",
    "print(\"Reverse of Listd is: \", Listd)"
   ]
  },
  {
   "cell_type": "code",
   "execution_count": 12,
   "metadata": {},
   "outputs": [
    {
     "name": "stdout",
     "output_type": "stream",
     "text": [
      "Listc is:  [1, 3, 5, 42, 4, 6]\n"
     ]
    }
   ],
   "source": [
    "# List c 의 4 번째 요소를 42 로 변경하라 !\n",
    "Listc[3] = 42\n",
    "print(\"Listc is: \", Listc)"
   ]
  },
  {
   "cell_type": "code",
   "execution_count": 13,
   "metadata": {},
   "outputs": [
    {
     "name": "stdout",
     "output_type": "stream",
     "text": [
      "[6, 5, 4, 3, 2, 1, 10]\n"
     ]
    }
   ],
   "source": [
    "# List d 의 마지막에 10 을 추가하라 !\n",
    "Listd.append(10)\n",
    "print(Listd)"
   ]
  },
  {
   "cell_type": "code",
   "execution_count": 16,
   "metadata": {},
   "outputs": [
    {
     "name": "stdout",
     "output_type": "stream",
     "text": [
      "Listc is:  [1, 3, 5, 42, 4, 6, 7, 8, 9]\n"
     ]
    }
   ],
   "source": [
    "# List c 의 마지막에 7, 8, 9 를 추가하라 !\n",
    "Listc.extend([7,8,9])\n",
    "print(\"Listc is: \", Listc)"
   ]
  },
  {
   "cell_type": "code",
   "execution_count": 17,
   "metadata": {},
   "outputs": [
    {
     "name": "stdout",
     "output_type": "stream",
     "text": [
      "List c 의 첫 3 요소:  [1, 3, 5]\n"
     ]
    }
   ],
   "source": [
    "# List c 의 첫 3 요소를 Print 하라 !\n",
    "print(\"List c 의 첫 3 요소: \", Listc[0:3])"
   ]
  },
  {
   "cell_type": "code",
   "execution_count": 18,
   "metadata": {},
   "outputs": [
    {
     "name": "stdout",
     "output_type": "stream",
     "text": [
      "List d의 마지막 요소:  10\n"
     ]
    }
   ],
   "source": [
    "# List d 의 마지막 요소를 Print 하라 단 크기 정보 사용불가\n",
    "print(\"List d의 마지막 요소: \", Listd[-1])"
   ]
  },
  {
   "cell_type": "code",
   "execution_count": 96,
   "metadata": {},
   "outputs": [
    {
     "name": "stdout",
     "output_type": "stream",
     "text": [
      "List d 의 길이:  7\n"
     ]
    }
   ],
   "source": [
    "# List d 의 크기 를 Print 하라\n",
    "print(\"List d 의 길이: \", len(Listd))"
   ]
  },
  {
   "cell_type": "markdown",
   "metadata": {},
   "source": [
    "# Exercise 2-2 : Tuple"
   ]
  },
  {
   "cell_type": "code",
   "execution_count": 23,
   "metadata": {},
   "outputs": [],
   "source": [
    "# Tuple a 는 2, 4, 6, 8 을 tuple b 는 16, 10, 12, 14 를 원소로 갖는다\n",
    "Tuplea = (2, 4, 6, 8)\n",
    "Tupleb = (16, 10, 12, 14)"
   ]
  },
  {
   "cell_type": "code",
   "execution_count": 25,
   "metadata": {},
   "outputs": [
    {
     "name": "stdout",
     "output_type": "stream",
     "text": [
      "Tuplec is:  (2, 4, 6, 8, 16, 10, 12, 14)\n"
     ]
    }
   ],
   "source": [
    "# Tuple c 는 tuple a, b 를 결합한 것이다 .\n",
    "Tuplec = Tuplea + Tupleb\n",
    "print(\"Tuplec is: \", Tuplec)"
   ]
  },
  {
   "cell_type": "code",
   "execution_count": 28,
   "metadata": {},
   "outputs": [
    {
     "name": "stdout",
     "output_type": "stream",
     "text": [
      "Tuplec is:  (2, 4, 6, 8, 16, 10, 12, 14)\n",
      "Tupled is:  (2, 4, 6, 8, 10, 12, 14, 16)\n"
     ]
    }
   ],
   "source": [
    "# Tuple d 는 tuple c 의 sorted copy 이다 .\n",
    "Tupled = tuple(sorted(Tuplec))\n",
    "print(\"Tuplec is: \", Tuplec)\n",
    "print(\"Tupled is: \", Tupled)"
   ]
  },
  {
   "cell_type": "code",
   "execution_count": 29,
   "metadata": {},
   "outputs": [
    {
     "name": "stdout",
     "output_type": "stream",
     "text": [
      "Tupled 의 세번째 요소:  6\n"
     ]
    }
   ],
   "source": [
    "# Tuple d 의 세 번째 요소를 출력하라\n",
    "print(\"Tupled 의 세번째 요소: \", Tupled[2])"
   ]
  },
  {
   "cell_type": "code",
   "execution_count": 34,
   "metadata": {},
   "outputs": [
    {
     "name": "stdout",
     "output_type": "stream",
     "text": [
      "Tuple d 의 마지막 세 요소:  (12, 14, 16)\n"
     ]
    }
   ],
   "source": [
    "# Tuple d 의 마지막 세 요소를 출력하되 크기 ( 를 이용하지 말 것 !\n",
    "print(\"Tuple d 의 마지막 세 요소: \",Tupled[-3:])"
   ]
  },
  {
   "cell_type": "code",
   "execution_count": 35,
   "metadata": {},
   "outputs": [
    {
     "name": "stdout",
     "output_type": "stream",
     "text": [
      "Tuple d의 크기:  8\n"
     ]
    }
   ],
   "source": [
    "# Tuple d 의 크기를 출력하라 !\n",
    "print(\"Tuple d의 크기: \",len(Tupled))"
   ]
  },
  {
   "cell_type": "markdown",
   "metadata": {},
   "source": [
    "# Exercise 2-3 : Set"
   ]
  },
  {
   "cell_type": "code",
   "execution_count": 37,
   "metadata": {},
   "outputs": [],
   "source": [
    "# Set a 는 1, 2, 3, 4 를 set b 는 2, 4, 6, 8 을 원소로 갖는다\n",
    "seta = {1, 2, 3, 4}\n",
    "setb = {2, 4, 6, 8}"
   ]
  },
  {
   "cell_type": "code",
   "execution_count": 41,
   "metadata": {},
   "outputs": [
    {
     "name": "stdout",
     "output_type": "stream",
     "text": [
      "setc :  {1, 2, 3, 4, 6, 8}\n"
     ]
    }
   ],
   "source": [
    "# Set c 는 set a, b 를 결합한 것이다 .\n",
    "setc = seta | setb\n",
    "print(\"setc : \",setc)"
   ]
  },
  {
   "cell_type": "code",
   "execution_count": 42,
   "metadata": {},
   "outputs": [
    {
     "name": "stdout",
     "output_type": "stream",
     "text": [
      "setd :  {1, 3}\n"
     ]
    }
   ],
   "source": [
    "# Set d 는 set a 에는 있지만 set b 에는 없는 요소들을 모두 가진다 .\n",
    "setd = seta - setb\n",
    "print(\"setd : \",setd)"
   ]
  },
  {
   "cell_type": "code",
   "execution_count": 44,
   "metadata": {},
   "outputs": [
    {
     "name": "stdout",
     "output_type": "stream",
     "text": [
      "sete :  {8, 6}\n"
     ]
    }
   ],
   "source": [
    "# Set e 는 set b 에는 있지만 set a 에는 없는 요소들을 모두 가진다 .\n",
    "sete = setb - seta\n",
    "print(\"sete : \", sete)"
   ]
  },
  {
   "cell_type": "code",
   "execution_count": 46,
   "metadata": {},
   "outputs": [
    {
     "name": "stdout",
     "output_type": "stream",
     "text": [
      "setf:  {2, 4}\n"
     ]
    }
   ],
   "source": [
    "# Set f 는 set a 와 b 가 같이 가지고 있는 요소들을 가진다 .\n",
    "setf = seta & setb\n",
    "print(\"setf: \", setf)"
   ]
  },
  {
   "cell_type": "code",
   "execution_count": 51,
   "metadata": {},
   "outputs": [
    {
     "name": "stdout",
     "output_type": "stream",
     "text": [
      "setg :  {8, 1, 3, 6}\n",
      "setg :  {8, 1, 3, 6}\n"
     ]
    }
   ],
   "source": [
    "# Set g 는 set a 와 b 가 동시에 갖지 않은 요소들을 가진다 .\n",
    "# 방법 1\n",
    "setg = setd | sete\n",
    "print(\"setg : \", setg)\n",
    "\n",
    "# 방법 2\n",
    "setg = (seta | setb) - (seta & setb)\n",
    "print(\"setg : \", setg)"
   ]
  },
  {
   "cell_type": "code",
   "execution_count": 52,
   "metadata": {},
   "outputs": [
    {
     "name": "stdout",
     "output_type": "stream",
     "text": [
      "setc 의 요소들의 수:  6\n"
     ]
    }
   ],
   "source": [
    "# Set c 의 요소들의 수를 print 하라 !\n",
    "print(\"setc 의 요소들의 수: \", len(setc))"
   ]
  },
  {
   "cell_type": "markdown",
   "metadata": {},
   "source": [
    "# Exercise 2-4 : Dictionary"
   ]
  },
  {
   "cell_type": "code",
   "execution_count": 53,
   "metadata": {},
   "outputs": [],
   "source": [
    "# 다음 전화번호부를 dictionary 를 생성하라\n",
    "Dict = {\"홍길동\" : \"02 320 5367\", \"김갑순\" : \"02 324 6254\", \"이상호\" : \"02 320 3689\"}"
   ]
  },
  {
   "cell_type": "code",
   "execution_count": 55,
   "metadata": {},
   "outputs": [
    {
     "name": "stdout",
     "output_type": "stream",
     "text": [
      "{'홍길동': '02 320 1024', '김갑순': '02 324 6254', '이상호': '02 320 3689'}\n"
     ]
    }
   ],
   "source": [
    "# 홍길동 의 번호를 02 320 1024 로 변경하라 !\n",
    "Dict[\"홍길동\"] = \"02 320 1024\"\n",
    "print(Dict)"
   ]
  },
  {
   "cell_type": "code",
   "execution_count": 58,
   "metadata": {},
   "outputs": [
    {
     "name": "stdout",
     "output_type": "stream",
     "text": [
      "{'홍길동': '02 320 1024', '김갑순': '02 324 6254', '이상호': '02 320 3689', '김선달': '02 330 3237'}\n"
     ]
    }
   ],
   "source": [
    "# 김선달 의 전화번호 02 330 3237 를 추가하라 !\n",
    "Dict[\"김선달\"] = \"02 330 3237\"\n",
    "print(Dict)"
   ]
  },
  {
   "cell_type": "code",
   "execution_count": 59,
   "metadata": {},
   "outputs": [
    {
     "name": "stdout",
     "output_type": "stream",
     "text": [
      "이상호의 전화번호:  02 320 3689\n"
     ]
    }
   ],
   "source": [
    "# 이상호 의 전화번호를 print 하라 !\n",
    "print(\"이상호의 전화번호: \",Dict[\"이상호\"])"
   ]
  },
  {
   "cell_type": "code",
   "execution_count": 88,
   "metadata": {},
   "outputs": [
    {
     "name": "stdout",
     "output_type": "stream",
     "text": [
      "이상호의 전화번호:  02 320 3689\n"
     ]
    }
   ],
   "source": [
    "# 이상호 의 전화번호를 출력하되 이상호 가 없으면 None 을 출력할 것 !\n",
    "print(\"이상호의 전화번호: \", Dict.get(\"이상호\"))"
   ]
  },
  {
   "cell_type": "code",
   "execution_count": 81,
   "metadata": {},
   "outputs": [
    {
     "name": "stdout",
     "output_type": "stream",
     "text": [
      "모든 key 값:  dict_keys(['홍길동', '김갑순', '이상호', '김선달'])\n"
     ]
    }
   ],
   "source": [
    "# 모든 key 값을 출력하라 !\n",
    "print(\"모든 key 값: \", Dict.keys())"
   ]
  },
  {
   "cell_type": "code",
   "execution_count": 82,
   "metadata": {},
   "outputs": [
    {
     "name": "stdout",
     "output_type": "stream",
     "text": [
      "모든 value 값:  dict_values(['02 320 1024', '02 324 6254', '02 320 3689', '02 330 3237'])\n"
     ]
    }
   ],
   "source": [
    "# 모든 값 ( 를 print 하라 !\n",
    "print(\"모든 value 값: \", Dict.values())"
   ]
  },
  {
   "cell_type": "markdown",
   "metadata": {},
   "source": [
    "# Exercise 2-5 : Collections"
   ]
  },
  {
   "cell_type": "code",
   "execution_count": 113,
   "metadata": {},
   "outputs": [
    {
     "name": "stdout",
     "output_type": "stream",
     "text": [
      "<class 'tuple'>\n",
      "a : (1, 1, 2, 3, 4)\n"
     ]
    }
   ],
   "source": [
    "# 1, 1, 2, 3, 3 을 요소로 갖는 리스트를 튜플 a 로 변경 저장하라 !\n",
    "save = [1, 1, 2, 3, 4]\n",
    "a = tuple(save)\n",
    "print(type(a))\n",
    "print(\"a :\", a)"
   ]
  },
  {
   "cell_type": "code",
   "execution_count": 115,
   "metadata": {},
   "outputs": [
    {
     "name": "stdout",
     "output_type": "stream",
     "text": [
      "(1, 1, 2, 3, 4)\n",
      "b 의 크기:  5\n"
     ]
    }
   ],
   "source": [
    "# a 를 리스트 b 로 변환하고 크기를 출력하라!\n",
    "print(a)\n",
    "b = list(a)\n",
    "print(\"b 의 크기: \", len(b))"
   ]
  },
  {
   "cell_type": "code",
   "execution_count": 116,
   "metadata": {},
   "outputs": [
    {
     "name": "stdout",
     "output_type": "stream",
     "text": [
      "c 의 크기:  4\n"
     ]
    }
   ],
   "source": [
    "# b 를 세트 c 로 변환하고 크기를 출력하라!\n",
    "c = set(b)\n",
    "print(\"c 의 크기: \", len(c))"
   ]
  },
  {
   "cell_type": "code",
   "execution_count": 117,
   "metadata": {},
   "outputs": [
    {
     "name": "stdout",
     "output_type": "stream",
     "text": [
      "d 의 크기:  4\n"
     ]
    }
   ],
   "source": [
    "# c 를 리스트 d 로 변환하고 크기 를 출력하라\n",
    "d = list(c)\n",
    "print(\"d 의 크기: \", len(d))"
   ]
  },
  {
   "cell_type": "code",
   "execution_count": 121,
   "metadata": {},
   "outputs": [
    {
     "name": "stdout",
     "output_type": "stream",
     "text": [
      "숫자를 입력하세요: 11\n",
      "[1, 2, 3, 4, 5, 6, 7, 8, 9, 10]\n"
     ]
    }
   ],
   "source": [
    "#1 에서 시작하여 10 에서 끝나는 range 객체를 생성한 후 이를 리스트 e 로 변환하라\n",
    "n = int(input(\"숫자를 입력하세요: \"))\n",
    "save = []\n",
    "for i in range(1,n):\n",
    "    save.append(i)\n",
    "e = list(save)\n",
    "print(e)"
   ]
  },
  {
   "cell_type": "code",
   "execution_count": 129,
   "metadata": {},
   "outputs": [
    {
     "name": "stdout",
     "output_type": "stream",
     "text": [
      "[('홍길동', '02 320 5367'), ('김갑순', '02 324 6254'), ('이상호', '02 320 3689')]\n",
      "['02 320 5367', '02 324 6254', '02 320 3689']\n",
      "['홍길동', '김갑순', '이상호']\n"
     ]
    }
   ],
   "source": [
    "# 2-4 예제의 전화번호부를 다시 생성한 후 key value 조합을 튜플로 갖는 리스트 t 를 생성하라 !\n",
    "\n",
    "Dict = {\"홍길동\" : \"02 320 5367\", \"김갑순\" : \"02 324 6254\", \"이상호\" : \"02 320 3689\"}\n",
    "t = Dict.items()\n",
    "t = list(t)\n",
    "print(t)\n",
    "\n",
    "# 전화번호부의 value 들만으로 구성된 리스트 v 를 생성하라 !\n",
    "v = list(Dict.values())\n",
    "print(v)\n",
    "\n",
    "# 전화번호부의 key 들만으로 구성된 리스트 k 를 생성하라 !\n",
    "k = list(Dict.keys())\n",
    "print(k)"
   ]
  },
  {
   "cell_type": "code",
   "execution_count": 136,
   "metadata": {},
   "outputs": [
    {
     "name": "stdout",
     "output_type": "stream",
     "text": [
      "Type of word is:  <class 'list'>\n",
      "word2 is:  ['a', 'a', 'a', 'a', 'b', 'd', 'e', 'e', 'h', 'i', 'i', 'i', 'i', 'i', 'l', 'm', 'm', 'n', 'n', 'n', 'r', 's', 's', 's', 's', 't', 't', 't']\n",
      "word1 is:  antidisestablishmentarianism\n",
      "string_s2 is  aaaabdeehiiiiilmmnnnrssssttt\n"
     ]
    }
   ],
   "source": [
    "# \"antidisestablishmentarianism\" 를 string 으로 생성한 후\n",
    "word1 = \"antidisestablishmentarianism\"\n",
    "\n",
    "#생성한 string 에 sorted function 를 적용한 후 출력의 자료형을 파악하라\n",
    "word2 = sorted(word)\n",
    "print(\"Type of word is: \", type(word2))\n",
    "print(\"word2 is: \",word2)\n",
    "print(\"word1 is: \",word1)\n",
    "\n",
    "#앞 출력의 글자들을 string s2 에 연결하라 \n",
    "string_s2 = \"\".join(word2)\n",
    "print(\"string_s2 is \", string_s2)"
   ]
  },
  {
   "cell_type": "code",
   "execution_count": 137,
   "metadata": {},
   "outputs": [
    {
     "name": "stdout",
     "output_type": "stream",
     "text": [
      "['the', 'quick', 'brown', 'fox', 'jumped', 'over', 'the', 'lazy', 'dog']\n"
     ]
    }
   ],
   "source": [
    "# 문자열 \"the quick brown fox jumped over the lazy dog\" 단어 단위로 분리하여 리스트 w 로 재구성하라!\n",
    "string3 = \"the quick brown fox jumped over the lazy dog\"\n",
    "w = list(string3.split())\n",
    "print(w)"
   ]
  },
  {
   "cell_type": "code",
   "execution_count": null,
   "metadata": {},
   "outputs": [],
   "source": []
  }
 ],
 "metadata": {
  "kernelspec": {
   "display_name": "Python 3",
   "language": "python",
   "name": "python3"
  },
  "language_info": {
   "codemirror_mode": {
    "name": "ipython",
    "version": 3
   },
   "file_extension": ".py",
   "mimetype": "text/x-python",
   "name": "python",
   "nbconvert_exporter": "python",
   "pygments_lexer": "ipython3",
   "version": "3.6.10"
  }
 },
 "nbformat": 4,
 "nbformat_minor": 4
}
