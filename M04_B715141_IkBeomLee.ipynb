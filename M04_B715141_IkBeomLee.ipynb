{
 "cells": [
  {
   "cell_type": "markdown",
   "metadata": {},
   "source": [
    "# 보충 문제"
   ]
  },
  {
   "cell_type": "code",
   "execution_count": 3,
   "metadata": {},
   "outputs": [
    {
     "name": "stdout",
     "output_type": "stream",
     "text": [
      "Gildonghongikackr235 ABC \n"
     ]
    }
   ],
   "source": [
    "# 특수문자 모두 제거하기.\n",
    "import re\n",
    "\n",
    "def cleanText(readData):\n",
    "    \n",
    "    #텍스트에 포함되어 있는 특수 문자 제거\n",
    "    text = re.sub('[-=+,#/\\?:^$.@*\\\"※~&%ㆍ!』\\\\‘|\\(\\)\\[\\]\\<\\>`\\'…》]','', readData)\n",
    "    return text\n",
    "\n",
    "strA = \"Gildong@hongik.ac.kr/#%235 ABC ‘?\"\n",
    "data = cleanText(strA)\n",
    "print(data)"
   ]
  },
  {
   "cell_type": "code",
   "execution_count": 6,
   "metadata": {},
   "outputs": [
    {
     "name": "stdout",
     "output_type": "stream",
     "text": [
      "S : [0, 1, 4, 9, 16, 25, 36, 49, 64, 81]\n",
      "V : [1, 2, 4, 8, 16, 32, 64, 128, 256, 512, 1024, 2048, 4096]\n",
      "\n",
      "원하는 각도를 입력하세요. (degrees): 90\n",
      "원하는 수를 입력하세요.4\n",
      "1.5707963267948966radian 에서 4항까지의 Taylor expansion 으로 근사한 sin 값은 1.0000035425842861 입니다.\n"
     ]
    }
   ],
   "source": [
    "#List Comprehension을 이용해 표현하기.\n",
    "\n",
    "# S = {𝑥^2\\𝑥∈0,1,…,9}\n",
    "S = {pow(x,2) for x in range(0,10)}\n",
    "print(f'S : {sorted(S)}')\n",
    "\n",
    "# V = {1,2,4,8,…,2^12}\n",
    "V = {pow(2,b) for b in range(0,13)}\n",
    "print(f'V : {sorted(V)}')\n",
    "print()\n",
    "\n",
    "# sin(x) 구하기.\n",
    "import math\n",
    "\n",
    "sin = 0\n",
    "\n",
    "def factorial(n):\n",
    "    if n == 1:\n",
    "        return 1\n",
    "    else:\n",
    "        return n * factorial(n-1)\n",
    "\n",
    "\n",
    "def sin_func(x,n, sin):\n",
    "        dsin = ((-1) ** n)*(x**(2 * n+1)) / factorial(2 * n +1)\n",
    "        if n == 0:\n",
    "            sin += dsin\n",
    "            return sin\n",
    "        else:\n",
    "            sin += dsin\n",
    "            return sin_func(x, n-1, sin)\n",
    "\n",
    "x = float(input(\"원하는 각도를 입력하세요. (degrees): \"))\n",
    "x *= 2 * math.pi / 360\n",
    "n = int(input(\"원하는 수를 입력하세요.\"))\n",
    "print(f\"{x}radian 에서 {n}항까지의 Taylor expansion 으로 근사한 sin 값은 {sin_func(x, n, sin)} 입니다.\")"
   ]
  },
  {
   "cell_type": "markdown",
   "metadata": {},
   "source": [
    "# Lab-04"
   ]
  },
  {
   "cell_type": "code",
   "execution_count": 15,
   "metadata": {},
   "outputs": [
    {
     "name": "stdout",
     "output_type": "stream",
     "text": [
      "원하는 단을 입력하세요.3\n",
      "3 x 1 = 3\n",
      "3 x 2 = 6\n",
      "3 x 3 = 9\n",
      "3 x 4 = 12\n",
      "3 x 5 = 15\n",
      "3 x 6 = 18\n",
      "3 x 7 = 21\n",
      "3 x 8 = 24\n",
      "3 x 9 = 27\n",
      "원하는 단을 입력하세요.7\n",
      "7 x 1 = 7\n",
      "7 x 2 = 14\n",
      "7 x 3 = 21\n",
      "7 x 4 = 28\n",
      "7 x 5 = 35\n",
      "7 x 6 = 42\n",
      "7 x 7 = 49\n",
      "7 x 8 = 56\n",
      "7 x 9 = 63\n",
      "원하는 단을 입력하세요.9\n",
      "9 x 1 = 9\n",
      "9 x 2 = 18\n",
      "9 x 3 = 27\n",
      "9 x 4 = 36\n",
      "9 x 5 = 45\n",
      "9 x 6 = 54\n",
      "9 x 7 = 63\n",
      "9 x 8 = 72\n",
      "9 x 9 = 81\n"
     ]
    }
   ],
   "source": [
    "# 구구단 출력하기\n",
    "\n",
    "#구구단 함수 => 값을 return 받아서 print 하는 함수가 더 좋겠지만, 문제에서 함수에서 반드시 출력하라고 했으므로 안에 print 문을 넣었습니다.\n",
    "def gugudan(x):\n",
    "    for i in range(1, 10):\n",
    "        print(f'{x} x {i} = {x * i}')\n",
    "    \n",
    "for _ in range(3):\n",
    "    dan = int(input('원하는 단을 입력하세요.'))\n",
    "    gugudan(dan)"
   ]
  },
  {
   "cell_type": "code",
   "execution_count": null,
   "metadata": {},
   "outputs": [],
   "source": []
  }
 ],
 "metadata": {
  "kernelspec": {
   "display_name": "Python 3",
   "language": "python",
   "name": "python3"
  },
  "language_info": {
   "codemirror_mode": {
    "name": "ipython",
    "version": 3
   },
   "file_extension": ".py",
   "mimetype": "text/x-python",
   "name": "python",
   "nbconvert_exporter": "python",
   "pygments_lexer": "ipython3",
   "version": "3.7.7"
  }
 },
 "nbformat": 4,
 "nbformat_minor": 4
}
