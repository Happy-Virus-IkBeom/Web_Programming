{
 "cells": [
  {
   "cell_type": "markdown",
   "metadata": {},
   "source": [
    "#  While True // Continue 방법"
   ]
  },
  {
   "cell_type": "code",
   "execution_count": null,
   "metadata": {},
   "outputs": [
    {
     "name": "stdout",
     "output_type": "stream",
     "text": [
      "s : 1\n",
      "Count : 1\n",
      "s : 2\n",
      "Count : 2\n",
      "s : 98\n",
      "Count : 3\n",
      "s : 0\n",
      "s : 0\n",
      "s : -3\n",
      "s : 6\n",
      "Count : 4\n"
     ]
    }
   ],
   "source": [
    "\"\"\"\n",
    "n 이 범위 안에 있을때 continue 되면서 그 아래것이 실행이 됨.\n",
    "\"\"\"\n",
    "count = 0\n",
    "while True :\n",
    "    n = int(input(\"s : \"))\n",
    "    if n < 1 or n > 99:\n",
    "        continue\n",
    "    count += 1\n",
    "    print(\"Count : {}\".format(count))"
   ]
  },
  {
   "cell_type": "code",
   "execution_count": null,
   "metadata": {},
   "outputs": [],
   "source": []
  }
 ],
 "metadata": {
  "kernelspec": {
   "display_name": "Python 3",
   "language": "python",
   "name": "python3"
  }
 },
 "nbformat": 4,
 "nbformat_minor": 4
}
