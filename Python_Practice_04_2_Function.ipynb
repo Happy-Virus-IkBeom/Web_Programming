{
 "cells": [
  {
   "cell_type": "code",
   "execution_count": 11,
   "metadata": {},
   "outputs": [
    {
     "name": "stdout",
     "output_type": "stream",
     "text": [
      "input the price of the first pizza = 30000\n",
      "If round pizza, just input diameter! \n",
      " Else rectangular pizza, input length and width! \n",
      " inputs? = 10\n",
      "['10']\n",
      "input the price of the second pizza = 40000\n",
      "If round pizza, just input diameter! \n",
      " Else rectangular pizza, input length and width! \n",
      " inputs? = 10 20\n",
      "['10', '20']\n",
      "\n",
      " Unit Price : First = 382.1656050955414, Second = 200.0\n"
     ]
    }
   ],
   "source": [
    "# 피자 구입 문제\n",
    "\n",
    "# Func, to get User Inputs\n",
    "def get_data(datalist, sSeq):\n",
    "    tSeq = \"input the price of the \" + sSeq + \" pizza = \"\n",
    "    datalist.append(float(input(tSeq)))\n",
    "    \n",
    "    print(\"If round pizza, just input diameter! \")\n",
    "    print(\" Else rectangular pizza, input length and width! \")\n",
    "    x = input(\" inputs? = \").split()\n",
    "    print(x)\n",
    "    if len(x) < 2 :\n",
    "        datalist.append(float(x[0]))\n",
    "        datalist.append(0)\n",
    "    else:\n",
    "        datalist.append(float(x[0]))\n",
    "        datalist.append(float(x[1]))\n",
    "\n",
    "\n",
    "def get_unitprice(price, length, width):\n",
    "    if width == 0:\n",
    "        area = 3.14 * (length/2) * (length/2)\n",
    "    else:\n",
    "        area = length * width\n",
    "    return price / area\n",
    "\n",
    "# Func, to give Result\n",
    "def give_result(datalist):\n",
    "    tx1 = get_unitprice(datalist[0], datalist[1], datalist[2])\n",
    "    tx2 = get_unitprice(datalist[3], datalist[4], datalist[5])\n",
    "    print(\"\\n Unit Price : First = {}, Second = {}\".format(tx1, tx2))\n",
    "\n",
    "dList = []\n",
    "get_data(dList, \"first\")\n",
    "get_data(dList, \"second\")\n",
    "give_result(dList)"
   ]
  },
  {
   "cell_type": "code",
   "execution_count": 13,
   "metadata": {},
   "outputs": [
    {
     "name": "stdout",
     "output_type": "stream",
     "text": [
      "Apple orange hoit\n"
     ]
    }
   ],
   "source": [
    "fruits = ['Apple', 'orange', 'hoit']\n",
    "result = \" \".join(fruits)\n",
    "print(result)"
   ]
  },
  {
   "cell_type": "code",
   "execution_count": 14,
   "metadata": {},
   "outputs": [
    {
     "name": "stdout",
     "output_type": "stream",
     "text": [
      "['Apple', 'orange', 'hoit']\n"
     ]
    }
   ],
   "source": [
    "result = result.split()\n",
    "print(result)"
   ]
  },
  {
   "cell_type": "code",
   "execution_count": 15,
   "metadata": {},
   "outputs": [
    {
     "name": "stdout",
     "output_type": "stream",
     "text": [
      "<enumerate object at 0x000001AE4AC6CAB0>\n"
     ]
    }
   ],
   "source": [
    "result = enumerate(fruits)\n",
    "print(result)"
   ]
  },
  {
   "cell_type": "code",
   "execution_count": 18,
   "metadata": {},
   "outputs": [
    {
     "name": "stdout",
     "output_type": "stream",
     "text": [
      "0 Apple\n",
      "1 orange\n",
      "2 hoit\n"
     ]
    }
   ],
   "source": [
    "for k, val in enumerate(fruits):\n",
    "    print(k, val)"
   ]
  },
  {
   "cell_type": "code",
   "execution_count": 19,
   "metadata": {},
   "outputs": [
    {
     "name": "stdout",
     "output_type": "stream",
     "text": [
      "{0: 'Apple', 1: 'orange', 2: 'hoit'}\n"
     ]
    }
   ],
   "source": [
    "result = {k: val for k, val in enumerate(fruits)}\n",
    "print(result)"
   ]
  },
  {
   "cell_type": "code",
   "execution_count": 22,
   "metadata": {},
   "outputs": [
    {
     "name": "stdout",
     "output_type": "stream",
     "text": [
      "one apple\n",
      "two orange\n",
      "three banana\n",
      "<class 'str'>\n"
     ]
    }
   ],
   "source": [
    "fruits1 = [\"one\", \"two\", \"three\"]\n",
    "fruits2 = [\"apple\", \"orange\", \"banana\"]\n",
    "\n",
    "for w1, w2 in zip(fruits1, fruits2):\n",
    "    print(w1, w2)\n",
    "print(type(w1))"
   ]
  },
  {
   "cell_type": "code",
   "execution_count": 23,
   "metadata": {},
   "outputs": [
    {
     "name": "stdout",
     "output_type": "stream",
     "text": [
      "(1, 4, 7) (2, 5, 8) (3, 6, 9)\n",
      "<class 'tuple'>\n"
     ]
    }
   ],
   "source": [
    "x1, x2, x3 = zip([1,2,3],[4,5,6],[7,8,9])\n",
    "print(x1,x2,x3)\n",
    "print(type(x1))"
   ]
  },
  {
   "cell_type": "code",
   "execution_count": 24,
   "metadata": {},
   "outputs": [
    {
     "name": "stdout",
     "output_type": "stream",
     "text": [
      "[12, 15, 18]\n"
     ]
    }
   ],
   "source": [
    "nSum = [sum(x) for x in zip((1,2,3), (4,5,6), (7,8,9))]\n",
    "print(nSum)"
   ]
  },
  {
   "cell_type": "code",
   "execution_count": 25,
   "metadata": {},
   "outputs": [
    {
     "name": "stdout",
     "output_type": "stream",
     "text": [
      "[1, 9, 25]\n"
     ]
    }
   ],
   "source": [
    "# List Comprehension\n",
    "result = [kk*kk for kk in range(7) if kk % 2 != 0]\n",
    "print(result)"
   ]
  },
  {
   "cell_type": "code",
   "execution_count": 27,
   "metadata": {},
   "outputs": [
    {
     "name": "stdout",
     "output_type": "stream",
     "text": [
      "[0, 1, 2, 9, 4, 25, 6]\n"
     ]
    }
   ],
   "source": [
    "result = [k*k if k % 2 != 0 else k for k in range(7)]\n",
    "print(result)"
   ]
  },
  {
   "cell_type": "code",
   "execution_count": 28,
   "metadata": {},
   "outputs": [
    {
     "name": "stdout",
     "output_type": "stream",
     "text": [
      "[\"it's\", 'a', 'PieCE', 'of', 'Cake!']\n",
      "[[\"IT'S\", 4], ['A', 1], ['PIECE', 5], ['OF', 2], ['CAKE!', 5]]\n"
     ]
    }
   ],
   "source": [
    "sSentence = \"it's a PieCE of Cake!\".split()\n",
    "print(sSentence)\n",
    "result = [[word.upper(), len(word)] for word in sSentence]\n",
    "print(result)"
   ]
  },
  {
   "cell_type": "code",
   "execution_count": 29,
   "metadata": {},
   "outputs": [
    {
     "name": "stdout",
     "output_type": "stream",
     "text": [
      "a b c d\n",
      "-----------------------\n",
      "a b c d\n",
      "['a', 'b', 'c', 'd']\n",
      "{'d', 'b', 'a', 'c'}\n",
      "11 12 13 Bc\n"
     ]
    }
   ],
   "source": [
    "#Unpacking\n",
    "dataDict = { 'a' : 11, 'b' : 12, 'c': 13, 'd' : 'Bc'}\n",
    "x, y, z, w = dataDict # key 값이 나옴\n",
    "print(x, y, z, w)\n",
    "print('-----------------------')\n",
    "print(*dataDict)\n",
    "print([*dataDict])\n",
    "print({*dataDict})\n",
    "print(dataDict[x], dataDict[y], dataDict[z], dataDict[w])"
   ]
  },
  {
   "cell_type": "code",
   "execution_count": 30,
   "metadata": {},
   "outputs": [
    {
     "name": "stdout",
     "output_type": "stream",
     "text": [
      "[11, 12] [13, 14] ['a', 'Bc', 'D']\n",
      "(11, 13, 'a')\n",
      "(12, 14, 'Bc')\n"
     ]
    }
   ],
   "source": [
    "dataList = [[11,12], [13,14], ['a', 'Bc', 'D']]\n",
    "print(*dataList)\n",
    "for data in zip(*dataList): # 마지막 남은 'D' 는 자동으로 제외됨\n",
    "    print(data)"
   ]
  },
  {
   "cell_type": "code",
   "execution_count": null,
   "metadata": {},
   "outputs": [],
   "source": []
  }
 ],
 "metadata": {
  "kernelspec": {
   "display_name": "Python 3",
   "language": "python",
   "name": "python3"
  },
  "language_info": {
   "codemirror_mode": {
    "name": "ipython",
    "version": 3
   },
   "file_extension": ".py",
   "mimetype": "text/x-python",
   "name": "python",
   "nbconvert_exporter": "python",
   "pygments_lexer": "ipython3",
   "version": "3.6.10"
  }
 },
 "nbformat": 4,
 "nbformat_minor": 4
}
