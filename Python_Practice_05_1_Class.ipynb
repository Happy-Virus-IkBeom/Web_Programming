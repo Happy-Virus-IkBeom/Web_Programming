{
 "cells": [
  {
   "cell_type": "markdown",
   "metadata": {},
   "source": [
    "# 객체와 클래스"
   ]
  },
  {
   "cell_type": "code",
   "execution_count": 1,
   "metadata": {},
   "outputs": [
    {
     "name": "stdout",
     "output_type": "stream",
     "text": [
      "<__main__.Bicycle object at 0x000002695F096860>\n"
     ]
    }
   ],
   "source": [
    "## 클래스 Bicycle 선언 (1)\n",
    "\n",
    "class Bicycle:\n",
    "    pass\n",
    "\n",
    "## myBicycle 이라는 object 생성\n",
    "##    (Bicycle의 Instance 생성)\n",
    "\n",
    "myBicycle = Bicycle()\n",
    "print(myBicycle)"
   ]
  },
  {
   "cell_type": "code",
   "execution_count": 2,
   "metadata": {},
   "outputs": [
    {
     "name": "stdout",
     "output_type": "stream",
     "text": [
      "자전거: 시속 25km 로 전진\n",
      "자전거: 시속 30km 로 전진\n",
      "\n",
      "참고 : 객체 정보\n",
      "<__main__.Bicycle object at 0x000002695F0C7710>\n",
      "<__main__.Bicycle object at 0x000002695F096860>\n"
     ]
    }
   ],
   "source": [
    "## 클래스 Bicycle 선언과 구현 (2)\n",
    "\n",
    "class Bicycle:\n",
    "    wheel_size = 0\n",
    "    color = None\n",
    "    \n",
    "    def move(self, speed) :\n",
    "        self.speed = speed\n",
    "        print(\"자전거: 시속 {}km 로 전진\".format(self.speed))\n",
    "\n",
    "# ============================================================\n",
    "\n",
    "## myBiCycle, yourBicycle 이라는 Object 생성\n",
    "#    == Bicycle의 Instances 생성\n",
    "\n",
    "myBicycle = Bicycle()\n",
    "myBicycle.move(25)\n",
    "\n",
    "yourBicycle = Bicycle()\n",
    "yourBicycle.move(30)\n",
    "\n",
    "print(\"\\n참고 : 객체 정보\")\n",
    "print(myBicycle)\n",
    "print(yourBicycle)"
   ]
  },
  {
   "cell_type": "code",
   "execution_count": 6,
   "metadata": {},
   "outputs": [
    {
     "name": "stdout",
     "output_type": "stream",
     "text": [
      "자전거: 시속 25km 로 전진\n",
      "자전거 : (19, Red) 정지\n",
      "----------------------------\n",
      "자전거: 시속 30km 로 전진\n",
      "자전거 : (0, None) 정지\n",
      "----------------------------\n",
      "{'speed': 30} \n",
      "\n",
      "{'__module__': '__main__', 'wheel_size': 0, 'color': None, 'move': <function Bicycle.move at 0x000002695F146488>, 'turn': <function Bicycle.turn at 0x000002695F146400>, 'stop': <function Bicycle.stop at 0x000002695F146730>, '__dict__': <attribute '__dict__' of 'Bicycle' objects>, '__weakref__': <attribute '__weakref__' of 'Bicycle' objects>, '__doc__': None}\n"
     ]
    }
   ],
   "source": [
    "## 클래스 Bicycle 선언과 구현 (3)\n",
    "\n",
    "class Bicycle:\n",
    "    wheel_size = 0\n",
    "    color = None\n",
    "    \n",
    "    def move(self, speed) :\n",
    "        self.speed = speed\n",
    "        print(\"자전거: 시속 {}km 로 전진\".format(self.speed))\n",
    "    \n",
    "    def turn(self, direction) :\n",
    "        self.direction = direction\n",
    "        print(\"자전거: {} 회전\".format(self.direction))\n",
    "    \n",
    "    def stop(self) :\n",
    "        print(\"자전거 : ({}, {}) 정지\".format(self.wheel_size, self.color))\n",
    "\n",
    "# ============================================================\n",
    "\n",
    "## myBiCycle, yourBicycle 이라는 Object 생성\n",
    "#    == Bicycle의 Instances 생성\n",
    "\n",
    "myBicycle = Bicycle()\n",
    "myBicycle.wheel_size = 19\n",
    "myBicycle.color = \"Red\"\n",
    "myBicycle.move(25)\n",
    "myBicycle.stop()\n",
    "print('----------------------------')\n",
    "yourBicycle = Bicycle()\n",
    "yourBicycle.move(30)\n",
    "yourBicycle.stop()\n",
    "print('----------------------------')\n",
    "# 변수명과 그 값의 조합으로 dictionary 형태로 보여줌.\n",
    "print(yourBicycle.__dict__,'\\n')\n",
    "print(Bicycle.__dict__)"
   ]
  },
  {
   "cell_type": "code",
   "execution_count": 10,
   "metadata": {},
   "outputs": [
    {
     "name": "stdout",
     "output_type": "stream",
     "text": [
      "자전거: 시속 25km 로 전진\n",
      "자전거 : (19, Red) 정지\n",
      "----------------------------\n",
      "자전거: 시속 30km 로 전진\n",
      "자전거 : (24, Black) 정지\n"
     ]
    }
   ],
   "source": [
    "## 클래스 Bicycle 선언과 구현 (4)\n",
    "\n",
    "class Bicycle:\n",
    "    \n",
    "    # 생성자(Constructor) 활용\n",
    "    def __init__(self, wheel_size, color):\n",
    "        self.wheel_size = wheel_size\n",
    "        self.color = color\n",
    "    \n",
    "    def move(self, speed) :\n",
    "        self.speed = speed\n",
    "        print(\"자전거: 시속 {}km 로 전진\".format(self.speed))\n",
    "    \n",
    "    def turn(self, direction) :\n",
    "        self.direction = direction\n",
    "        print(\"자전거: {} 회전\".format(self.direction))\n",
    "    \n",
    "    def stop(self) :\n",
    "        print(\"자전거 : ({}, {}) 정지\".format(self.wheel_size, self.color))\n",
    "\n",
    "# ============================================================\n",
    "\n",
    "## myBiCycle, yourBicycle 이라는 Object 생성\n",
    "#    == Bicycle의 Instances 생성\n",
    "\n",
    "myBicycle = Bicycle(19, \"Red\")\n",
    "myBicycle.move(25)\n",
    "myBicycle.stop()\n",
    "print('----------------------------')\n",
    "yourBicycle = Bicycle(24, \"Black\")\n",
    "yourBicycle.move(30)\n",
    "yourBicycle.stop()"
   ]
  },
  {
   "cell_type": "code",
   "execution_count": 31,
   "metadata": {},
   "outputs": [
    {
     "name": "stdout",
     "output_type": "stream",
     "text": [
      "생성된 자동차 인스턴스의 수 =  1\n",
      "자동차(Luxury & White)가시속 80킬로미터로 전진\n",
      "자율 주행 모드: 자동차(Luxury & White)가시속 80킬로미터로 전진\n",
      "---------------------------------------------------------------\n",
      "생성된 자동차 인스턴스의 수 =  2\n",
      "자동차(Comfy & Blue)가시속 40킬로미터로 전진\n",
      "자율 주행 모드: 자동차(Comfy & Blue)가시속 40킬로미터로 전진\n"
     ]
    }
   ],
   "source": [
    "## 클래스 Bicycle 선언과 구현 (5)\n",
    "\n",
    "class MyCarAuto:\n",
    "    \n",
    "    instance_count = 0\n",
    "    # 생성자(Constructor) 활용\n",
    "    def __init__(self, size, color):\n",
    "        self.size = size\n",
    "        self.color = color\n",
    "        MyCarAuto.instance_count += 1 # class 변수 사용\n",
    "        print(\"생성된 자동차 인스턴스의 수 = \", MyCarAuto.instance_count)\n",
    "    \n",
    "    #instance Method 정의\n",
    "    def move(self, speed) :\n",
    "        self.speed = speed\n",
    "        print(\"자동차({0} & {1})가\".format(self.size, self.color), end = \"\")\n",
    "        print(\"시속 {0}킬로미터로 전진\".format(self.speed))\n",
    "    \n",
    "    def auto_cruize(self):\n",
    "        print(\"자율 주행 모드: \", end = \"\" )\n",
    "        # instance method move() & 인스턴스 변수 speed 호출\n",
    "        self.move(self.speed)\n",
    "\n",
    "# ============================================================\n",
    "\n",
    "car5 = MyCarAuto(\"Luxury\", \"White\")\n",
    "car5.move(80)\n",
    "car5.auto_cruize()\n",
    "print(\"---------------------------------------------------------------\")\n",
    "\n",
    "car6 = MyCarAuto(\"Comfy\", \"Blue\")\n",
    "car6.move(40)\n",
    "car6.auto_cruize()"
   ]
  },
  {
   "cell_type": "markdown",
   "metadata": {},
   "source": [
    "# Statice Methods (정적 매서드)\n",
    "\n",
    "\n",
    "#클래스와 관련이 있어서 클래스 안에 두지만, 클래스나 클래스의 인스턴스와 독립적으로 동작하는 함수를 필요할 때 이용하는 함수\n",
    "#함수를 정의할 때 인자로 self를 사용하지 않으며 정적 매서드 안에서는 클래스나 클래스 변수에 접근할 수 없음\n",
    "#함수 앞에 @staticmethod 라는 데코레이터(Decorator)를 선언해 정적 매서드임을 표시"
   ]
  },
  {
   "cell_type": "code",
   "execution_count": 32,
   "metadata": {},
   "outputs": [
    {
     "name": "stdout",
     "output_type": "stream",
     "text": [
      "생성된 자동차 인스턴스의 수 =  3\n",
      "자동차(Luxury & white)가시속 80킬로미터로 전진\n",
      "자율 주행 모드: 자동차(Luxury & white)가시속 80킬로미터로 전진\n",
      "디젤 엔진차 입니다! \n",
      "전기 엔진차 입니다! \n"
     ]
    }
   ],
   "source": [
    "## 클래스 Bicycle 선언과 구현 (6)\n",
    "\n",
    "class MyCarAuto2:\n",
    "    \n",
    "    instance_count = 0\n",
    "    # 생성자(Constructor) 활용\n",
    "    def __init__(self, size, color):\n",
    "        self.size = size\n",
    "        self.color = color\n",
    "        MyCarAuto.instance_count += 1 # class 변수 사용\n",
    "        print(\"생성된 자동차 인스턴스의 수 = \", MyCarAuto.instance_count)\n",
    "    \n",
    "    #instance Method 정의\n",
    "    def move(self, speed) :\n",
    "        self.speed = speed\n",
    "        print(\"자동차({0} & {1})가\".format(self.size, self.color), end = \"\")\n",
    "        print(\"시속 {0}킬로미터로 전진\".format(self.speed))\n",
    "    \n",
    "    def auto_cruize(self):\n",
    "        print(\"자율 주행 모드: \", end = \"\" )\n",
    "        # instance method move() & 인스턴스 변수 speed 호출\n",
    "        self.move(self.speed)\n",
    "        \n",
    "    # Static Method 정의\n",
    "    @staticmethod\n",
    "    def check_enginetype(engine_code):\n",
    "        if engine_code > 200:\n",
    "            print(\"전기 엔진차 입니다! \")\n",
    "        elif engine_code >20 :\n",
    "            print(\"디젤 엔진차 입니다! \")\n",
    "        else:\n",
    "            print(\"가솔린 엔진차 입니다! \")\n",
    "\n",
    "# ============================================================\n",
    "\n",
    "car6 = MyCarAuto2(\"Luxury\", \"white\")\n",
    "car6.move(80)\n",
    "car6.auto_cruize()\n",
    "car6.check_enginetype(123)\n",
    "MyCarAuto2.check_enginetype(219)"
   ]
  },
  {
   "cell_type": "code",
   "execution_count": null,
   "metadata": {},
   "outputs": [],
   "source": []
  }
 ],
 "metadata": {
  "kernelspec": {
   "display_name": "Python 3",
   "language": "python",
   "name": "python3"
  },
  "language_info": {
   "codemirror_mode": {
    "name": "ipython",
    "version": 3
   },
   "file_extension": ".py",
   "mimetype": "text/x-python",
   "name": "python",
   "nbconvert_exporter": "python",
   "pygments_lexer": "ipython3",
   "version": "3.6.10"
  }
 },
 "nbformat": 4,
 "nbformat_minor": 4
}
